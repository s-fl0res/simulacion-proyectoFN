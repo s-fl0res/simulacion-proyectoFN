{
 "cells": [
  {
   "cell_type": "markdown",
   "id": "0fd9d31e-37ea-444d-9fe8-aa596e461a3f",
   "metadata": {},
   "source": [
    "# Proyecto: Descifrando Mensajes Codificados Usando MCMC\n",
    "\n",
    "Integrantes: Sebastián Flores y Matías Neto\n",
    "\n",
    "## Procesamiento de la fuente de texto"
   ]
  },
  {
   "cell_type": "code",
   "execution_count": 1,
   "id": "0501a677-a035-4322-b11c-594d937db640",
   "metadata": {},
   "outputs": [
    {
     "name": "stdout",
     "output_type": "stream",
     "text": [
      "Requirement already satisfied: pycipher in /home/sflores/anaconda3/lib/python3.9/site-packages (0.5.2)\n",
      "\u001b[33mWARNING: You are using pip version 22.0.4; however, version 23.3.1 is available.\n",
      "You should consider upgrading via the '/home/sflores/anaconda3/bin/python -m pip install --upgrade pip' command.\u001b[0m\u001b[33m\n",
      "\u001b[0mNote: you may need to restart the kernel to use updated packages.\n"
     ]
    }
   ],
   "source": [
    "%pip install pycipher"
   ]
  },
  {
   "cell_type": "code",
   "execution_count": 2,
   "id": "0d6dc3de-bd6f-4e6f-a1d5-c9755ed216aa",
   "metadata": {},
   "outputs": [],
   "source": [
    "import re\n",
    "import random\n",
    "import pandas as pd\n",
    "import numpy as np\n",
    "import matplotlib.pyplot as plt\n",
    "from pycipher import SimpleSubstitution\n"
   ]
  },
  {
   "cell_type": "code",
   "execution_count": 3,
   "id": "100724b9-7149-445a-98ec-d40396017ec0",
   "metadata": {},
   "outputs": [],
   "source": [
    "# Cargar el texto\n",
    "with open(\"gloria_benitoperezgaldos.txt\", \"r\") as f:\n",
    "    text = f.readlines()\n",
    "\n",
    "for i in range(len(text)):\n",
    "    text[i] = text[i].replace('\\n', '')\n",
    "\n",
    "text = ' '.join(text)"
   ]
  },
  {
   "cell_type": "code",
   "execution_count": 4,
   "id": "cd0b1793-2100-4a11-b0aa-03fc394fa18f",
   "metadata": {},
   "outputs": [],
   "source": [
    "# Sólo minúsculas\n",
    "clean_text = text.casefold()\n",
    "\n",
    "# Eliminar tildes\n",
    "tilde_dict = {'á':'a', 'é': 'e', 'í': 'i', 'ó':'o', 'ú':'u', 'ñ': 'n'}\n",
    "for key, value in tilde_dict.items():\n",
    "    clean_text = clean_text.replace(key, value)\n",
    "\n",
    "# Eliminar caracteres especiales\n",
    "clean_text = re.sub(r\"[^a-zA-Z ]\", \"\", clean_text)\n",
    "clean_text = clean_text.upper()"
   ]
  },
  {
   "cell_type": "code",
   "execution_count": 5,
   "id": "e0a59193-4884-4b25-b48a-5bdbbece3b7e",
   "metadata": {},
   "outputs": [],
   "source": [
    "def process(word, matrix):\n",
    "    '''\n",
    "    Almacena la frecuencia de transiciones de una palabra en una matriz\n",
    "    \n",
    "    Argumentos:\n",
    "        word (string): Palabra a procesar\n",
    "        matrix (pd.DataFrame): Matriz de transición\n",
    "    \n",
    "    Retorna:\n",
    "        matrix (pd.DataFrame): Matriz de transición actualizada con\n",
    "                               la palabra procesada\n",
    "    '''\n",
    "    letters = list(word)\n",
    "    matrix.loc[' ', letters[0]] = matrix.loc[' ', letters[0]] + 1\n",
    "    for i in range(len(word)-1):\n",
    "        matrix.loc[letters[i], letters[i+1]] = matrix.loc[letters[i], letters[i+1]] + 1\n",
    "    matrix.loc[letters[len(word)-1], ' '] = matrix.loc[letters[len(word)-1], ' '] + 1\n",
    "    return matrix"
   ]
  },
  {
   "cell_type": "code",
   "execution_count": 6,
   "id": "ca3423d7-dd12-4316-818e-3fb4261d7830",
   "metadata": {},
   "outputs": [],
   "source": [
    "# Creación de la matriz\n",
    "alphabet = sorted(''.join(set(clean_text)))\n",
    "matrix = pd.DataFrame(data=np.zeros((len(alphabet), len(alphabet))), index=alphabet, columns=alphabet)\n",
    "words = clean_text.split()\n",
    "\n",
    "# Se demora unos minutos\n",
    "for word in words:\n",
    "    matrix = process(word, matrix)\n",
    "transition = matrix.apply(lambda x: x/np.sum(x), axis=1)"
   ]
  },
  {
   "cell_type": "markdown",
   "id": "38181b50-c6e6-4380-8778-9f3d960d604e",
   "metadata": {},
   "source": [
    "### Matriz para ataque de trigrama"
   ]
  },
  {
   "cell_type": "code",
   "execution_count": 7,
   "id": "b3069266-3ac9-4133-898a-869ca6ea9f51",
   "metadata": {},
   "outputs": [],
   "source": [
    "def trig_process(word, matrix):\n",
    "    '''\n",
    "    Almacena la frecuencia de transiciones de una palabra en una matriz\n",
    "    \n",
    "    Argumentos:\n",
    "        word (string): Palabra a procesar\n",
    "        matrix (pd.DataFrame): Matriz de transición\n",
    "    \n",
    "    Retorna:\n",
    "        matrix (pd.DataFrame): Matriz de transición actualizada con\n",
    "                               la palabra procesada\n",
    "    '''\n",
    "    letters = list(word)\n",
    "    if len(word) == 1:\n",
    "        matrix.loc[' ' + letters[0], ' '] = matrix.loc[' ' + letters[0], ' '] + 1\n",
    "    else:\n",
    "        matrix.loc[' ' + letters[0], letters[1]] = matrix.loc[' ' + letters[0], letters[1]] + 1\n",
    "        for i in range(len(word)-2):\n",
    "            matrix.loc[letters[i] + letters[i+1], letters[i+2]] = matrix.loc[letters[i] + letters[i+1], letters[i+2]] + 1\n",
    "        matrix.loc[letters[-2] + letters[-1], ' '] = matrix.loc[letters[-2] + letters[-1], ' '] + 1\n",
    "    return matrix\n",
    "\n",
    "trig_index = [f + s for f in list(alphabet) for s in list(alphabet[1:])]\n",
    "trig_columns = alphabet\n",
    "trig_matrix = pd.DataFrame(data=np.zeros((len(trig_index), len(trig_columns))), index=trig_index, columns=trig_columns)\n",
    "\n",
    "for word in words:\n",
    "    trig_matrix = trig_process(word, trig_matrix)\n",
    "trig_transition = trig_matrix.apply(lambda x: x/np.sum(x), axis=1)"
   ]
  },
  {
   "cell_type": "markdown",
   "id": "d1263ba4-ff81-4845-abc2-0b668cd8e126",
   "metadata": {},
   "source": [
    "## Definición de funciones auxiliares para la minimización"
   ]
  },
  {
   "cell_type": "code",
   "execution_count": 8,
   "id": "89bbef93-6bd6-4569-8283-571767a3cb66",
   "metadata": {},
   "outputs": [
    {
     "name": "stdout",
     "output_type": "stream",
     "text": [
      "Texto cifrado: OHPLYE ATYE CZEUHZE WGZTNZ AK UZKYNYT CZ WHEFKAOFZTNY ZK PYGYTZK AHGZKFATY JHZTCFA GZPYGCY AQHZKKA NAGCZ GZOYNA ZT QHZ EH UACGZ KY KKZXY A PYTYPZG ZK LFZKY\n",
      "Plausibilidad: 47.44776747911044\n"
     ]
    }
   ],
   "source": [
    "def plausibility(ciphertext, key, matrix = transition):\n",
    "    '''\n",
    "    Función de plausibilidad que tiene el rol de -U para SA\n",
    "    \n",
    "    Argumentos:\n",
    "        ciphertext (string): Texto codificado\n",
    "        key (string): Clave del mismo largo que el alfabeto a testear\n",
    "        matrix (pd.DataFrame): Matriz de transición construida antes\n",
    "    \n",
    "    Retorna:\n",
    "        plausibility (float): valor de la plausibilidad para key\n",
    "    '''\n",
    "    cipher = SimpleSubstitution(key)\n",
    "    plaintext = cipher.decipher(ciphertext, keep_punct = True)\n",
    "    words = plaintext.split()\n",
    "    matrix = pd.DataFrame(data=np.zeros((len(alphabet), len(alphabet))), index=alphabet, columns=alphabet)\n",
    "    for word in words:\n",
    "        matrix = process(word, matrix)\n",
    "    plausibility = np.sum((1 + matrix.to_numpy()) * np.log(1 + transition.to_numpy()))\n",
    "    return plausibility\n",
    "\n",
    "# Ejemplo\n",
    "plaintext = \"MUCHOS ANOS DESPUES FRENTE AL PELOTON DE FUSILAMIENTO \" + \\\n",
    "            \"EL CORONEL AURELIANO BUENDIA RECORDO AQUELLA TARDE REMOTA \" + \\\n",
    "            \"EN QUE SU PADRE LO LLEVO A CONOCER EL HIELO\"\n",
    "real_key = \"AJPCZWRLFBDKOTYUQGENHXMIVS\"\n",
    "real_cipher = SimpleSubstitution(real_key)\n",
    "ciphertext = real_cipher.encipher(plaintext, keep_punct = True)\n",
    "print(f\"Texto cifrado: {ciphertext}\")\n",
    "print(f\"Plausibilidad: {plausibility(ciphertext, real_key)}\")"
   ]
  },
  {
   "cell_type": "code",
   "execution_count": 17,
   "id": "27adcf23-9b05-4da7-9da4-c316f0e503fd",
   "metadata": {},
   "outputs": [
    {
     "name": "stdout",
     "output_type": "stream",
     "text": [
      "Clave ejemplo: AYJRZDHLSBTONUIWCMFPEKQVGX\n",
      "Texto descifrado con la clave: LGTHBU AKBU QEUNGEU PYEKME AV NEVBMBK QE PGUSVALSEKMB EV TBYBKEV AGYEVSAKB CGEKQSA YETBYQB AWGEVVA MAYQE YELBMA EK WGE UG NAQYE VB VVEZB A TBKBTEY EV HSEVB\n",
      "Plausibilidad: 33.67836433747776\n"
     ]
    }
   ],
   "source": [
    "# Ejemplo para ver que efectivamente la plausibilidad es menor\n",
    "example_key = ''.join(random.sample(real_key, len(real_key)))\n",
    "print(\"Clave ejemplo: \" + example_key)\n",
    "example_cipher = SimpleSubstitution(example_key)\n",
    "print(\"Texto descifrado con la clave: \"+example_cipher.decipher(ciphertext, keep_punct=True))\n",
    "print(f\"Plausibilidad: {plausibility(ciphertext, example_key)}\")"
   ]
  },
  {
   "cell_type": "code",
   "execution_count": 18,
   "id": "fa661f1e-7743-401d-83bd-97c4e9fffc9e",
   "metadata": {},
   "outputs": [
    {
     "name": "stdout",
     "output_type": "stream",
     "text": [
      "Clave ejemplo: AYJRZDHLSBTONUIWCMFPEKQVGX\n",
      "Vecino: AYJRGDHLSBTONUIWCMFPEKQVZX\n",
      "Indices intercambiados: [4, 24]\n"
     ]
    }
   ],
   "source": [
    "def neighbor(key):\n",
    "    '''\n",
    "    Retorna un vecino aleatorio (con distribución uniforme) de la clave\n",
    "    \n",
    "    Argumentos:\n",
    "        key (str): Clave representada por una permutación del alfabeto\n",
    "    \n",
    "    Retorna:\n",
    "        new_key (str): Clave vecina a key\n",
    "    '''\n",
    "    indices = random.sample(list(np.arange(len(key))), 2)\n",
    "    symbol_a, symbol_b = key[indices[0]], key[indices[1]]\n",
    "    new_key = list(key)\n",
    "    new_key[indices[0]] = symbol_b\n",
    "    new_key[indices[1]] = symbol_a\n",
    "    new_key = ''.join(new_key)\n",
    "    return new_key\n",
    "\n",
    "nghbr = neighbor(example_key)\n",
    "print(f\"Clave ejemplo: {example_key}\")\n",
    "print(f\"Vecino: {nghbr}\")\n",
    "print(f\"Indices intercambiados: {[i for i in range(len(example_key)) if example_key[i] != nghbr[i]]}\")"
   ]
  },
  {
   "cell_type": "code",
   "execution_count": 31,
   "id": "6c19d936-d1ba-46e7-9820-239be9e99942",
   "metadata": {},
   "outputs": [],
   "source": [
    "def accuracy(plaintext: str, ciphertext:str, key: str):\n",
    "    '''\n",
    "    Calcula la precisión de guess respecto de plaintext.\n",
    "    Es la distancia de Shannon normalizada\n",
    "    '''\n",
    "    assert len(plaintext) == len(ciphertext)\n",
    "    cipher = SimpleSubstitution(key)\n",
    "    guess = cipher.decipher(ciphertext, keep_punct = True)\n",
    "    aciertos = [1 for i in range(len(plaintext)) if (plaintext[i] == guess[i]) and plaintext[i] != ' ']\n",
    "    return sum(aciertos)/len(plaintext)"
   ]
  },
  {
   "cell_type": "markdown",
   "id": "4b6058b4-ad91-446c-8310-dfad4b0694b9",
   "metadata": {},
   "source": [
    "## Optimización"
   ]
  },
  {
   "cell_type": "code",
   "execution_count": 32,
   "id": "375e7949-360c-4c79-bcc9-e08e098abdec",
   "metadata": {},
   "outputs": [
    {
     "name": "stdout",
     "output_type": "stream",
     "text": [
      "Estado de la cadena luego de 10 pasos con beta = 1: XVTEHPUWKQCZSALRMNOBJIGFYD\n",
      "Indices intercambiados: [0, 1, 2, 3, 4, 5, 6, 7, 8, 9, 10, 11, 12, 13, 14, 15, 16, 17, 18, 19, 20, 21, 22, 23, 25]\n"
     ]
    }
   ],
   "source": [
    "def SADecipher(ciphertext: str, Niter: int, beta, plaintext,\n",
    "               initial_key = random.sample(alphabet[1:], len(alphabet) - 1),\n",
    "               print_period = None):\n",
    "    '''\n",
    "    Función que implementa Simmulated Annealing \n",
    "    para el problema de descifrado\n",
    "    \n",
    "    Argumentos:\n",
    "        ciphertext: Código a descifrar\n",
    "        Niter: Número de pasos a realizar\n",
    "        beta (fun): Función que representa el beta del método de SA\n",
    "        initial_key (str): una clave inicial para el algoritmo\n",
    "        print_period: Representa el periodo de actualización. \n",
    "            Si no es None, se imprime el estado de la cadena\n",
    "            y la plausibilidad cada print_period pasos\n",
    "    \n",
    "    Retorna:\n",
    "        key: Estado de la cadena luego de Niter pasos\n",
    "    '''\n",
    "    \n",
    "    U = np.random.uniform(0, 1, size = Niter)\n",
    "    key = initial_key\n",
    "    incumbent_plaus = plausibility(ciphertext, key)\n",
    "    incumbent_accuracy = accuracy(plaintext, ciphertext, key)\n",
    "    scores = np.zeros(Niter)\n",
    "    accuracies = np.zeros(Niter)\n",
    "    if print_period == None:\n",
    "        for i in range(Niter):\n",
    "            scores[i] = incumbent_plaus\n",
    "            accuracies[i] = incumbent_accuracy\n",
    "            new_key = neighbor(key)\n",
    "            new_plaus = plausibility(ciphertext, new_key)\n",
    "            if U[i] <= np.exp(beta(i) * (new_plaus - incumbent_plaus)):\n",
    "                key = new_key\n",
    "                incumbent_plaus = new_plaus\n",
    "                incumbent_accuracy = accuracy(plaintext, ciphertext, key)\n",
    "\n",
    "    else:\n",
    "        for i in range(Niter):\n",
    "            scores[i] = incumbent_plaus\n",
    "            accuracies[i] = incumbent_accuracy\n",
    "            new_key = neighbor(key)\n",
    "            new_plaus = plausibility(ciphertext, new_key)\n",
    "            if U[i] <= np.exp(beta(i) * (new_plaus - incumbent_plaus)):\n",
    "                key = new_key\n",
    "                incumbent_plaus = new_plaus\n",
    "                incumbent_accuracy = accuracy(plaintext, ciphertext, key)\n",
    "            if i % print_period == 0:\n",
    "                cipher = SimpleSubstitution(key)\n",
    "                print(f\"Paso {i}\")\n",
    "                print(f\"Frase actual: {cipher.decipher(ciphertext, keep_punct = True)}\")\n",
    "                print(f\"Plausibilidad: {incumbent_plaus}\")\n",
    "    return key, scores, accuracies\n",
    "\n",
    "# Test de SADecipher\n",
    "beta = lambda x: 1     \n",
    "sample_advance, sample_scores, sample_accuracies = SADecipher(ciphertext, 10, beta, plaintext)\n",
    "print(f\"Estado de la cadena luego de 10 pasos con beta = 1: {sample_advance}\")\n",
    "print(f\"Indices intercambiados: {[i for i in range(len(example_key)) if 'ABCDEFGHIJKLMNOPQRSTUVWXYZ'[i] != sample_advance[i]]}\")"
   ]
  },
  {
   "cell_type": "code",
   "execution_count": 33,
   "id": "c0631820-0b96-43d0-bd0b-8b14cbfbbff2",
   "metadata": {},
   "outputs": [
    {
     "data": {
      "image/png": "[encoded data removed]",
      "text/plain": [
       "<Figure size 432x288 with 1 Axes>"
      ]
     },
     "metadata": {
      "needs_background": "light"
     },
     "output_type": "display_data"
    },
    {
     "data": {
      "image/png": "[encoded data removed]",
      "text/plain": [
       "<Figure size 432x288 with 1 Axes>"
      ]
     },
     "metadata": {
      "needs_background": "light"
     },
     "output_type": "display_data"
    }
   ],
   "source": [
    "def graph_scores(scores, Niter, title):\n",
    "    plt.figure()\n",
    "    plt.plot(np.arange(Niter) + 1, scores)\n",
    "    plt.title(title)\n",
    "    plt.xlabel(\"Pasos\")\n",
    "    plt.ylabel(\"Plausibilidad\")\n",
    "    plt.show()\n",
    "    return \n",
    "\n",
    "def graph_accuracies(accuracies, Niter, title):\n",
    "    plt.figure()\n",
    "    plt.plot(np.arange(Niter) + 1, accuracies)\n",
    "    plt.title(title)\n",
    "    plt.xlabel(\"Pasos\")\n",
    "    plt.ylabel(\"Precisión\")\n",
    "    plt.show()\n",
    "graph_scores(sample_scores, 10, \"Plausibilidad en diez pasos de la cadena\")\n",
    "graph_accuracies(sample_accuracies, 10, \"Precisión en diez pasos de la cadena\")"
   ]
  },
  {
   "cell_type": "code",
   "execution_count": 35,
   "id": "80ca6bd4-487e-4153-8cbb-d0c1e87139fa",
   "metadata": {},
   "outputs": [
    {
     "name": "stdout",
     "output_type": "stream",
     "text": [
      "Paso 0\n",
      "Frase actual: NEFOYX ZIYX KLXHELX GWLIRL ZC HLCYRYI KL GEXSCZNSLIRY LC FYWYILC ZEWLCSZIY BELIKSZ WLFYWKY ZJELCCZ RZWKL WLNYRZ LI JEL XE HZKWL CY CCLAY Z FYIYFLW LC OSLCY\n",
      "Plausibilidad: 32.71242708517882\n",
      "Paso 1000\n",
      "Frase actual: JZRUAG YDAG TOGKZOG WMODFO YH KOHAFAD TO WZGIHYJIODFA OH RAMADOH YZMOHIYDA CZODTIY MORAMTA YPZOHHY FYMTO MOJAFY OD PZO GZ KYTMO HA HHONA Y RADAROM OH UIOHA\n",
      "Plausibilidad: 38.97882817879184\n",
      "Paso 2000\n",
      "Frase actual: FZQVKA EIKA COAMZOA PHOIXO EN MONKXKI CO PZAGNEFGOIXK ON QKHKION EZHONGEIK WZOICGE HOQKHCK ELZONNE XEHCO HOFKXE OI LZO AZ MECHO NK NNOBK E QKIKQOH ON VGONK\n",
      "Plausibilidad: 40.5263635076222\n",
      "Paso 3000\n",
      "Frase actual: TIYCOK ENOK MAKDIAK HZANPA ES DASOPON MA HIKRSETRANPO AS YOZONAS EIZASRENO GIANMRE ZAYOZMO EFIASSE PEZMA ZATOPE AN FIA KI DEMZA SO SSAVO E YONOYAZ AS CRASO\n",
      "Plausibilidad: 45.28124999409078\n",
      "Paso 4000\n",
      "Frase actual: GUTMOY ASOY VEYFUEY HDESZE AL FELOZOS VE HUYRLAGRESZO EL TODOSEL AUDELRASO KUESVRA DETODVO AQUELLA ZADVE DEGOZA ES QUE YU FAVDE LO LLEXO A TOSOTED EL MRELO\n",
      "Plausibilidad: 46.720959535691975\n",
      "Paso 5000\n",
      "Frase actual: XUJKON ASON HENPUEN GDESTE AY PEYOTOS HE GUNVYAXVESTO EY JODOSEY AUDEYVASO MUESHVA DEJODHO AQUEYYA TADHE DEXOTA ES QUE NU PAHDE YO YYEZO A JOSOJED EY KVEYO\n",
      "Plausibilidad: 46.64387700849361\n",
      "Paso 6000\n",
      "Frase actual: CUJGOK ANOK VEKLUEK MDENHE AS LESOHON VE MUKISACIENHO ES JODONES AUDESIANO WUENVIA DEJODVO AQUESSA HADVE DECOHA EN QUE KU LAVDE SO SSEPO A JONOJED ES GIESO\n",
      "Plausibilidad: 48.12466434702875\n",
      "Paso 7000\n",
      "Frase actual: FUCPOK ANOK VEKMUEK LDENJE AS MESOJON VE LUKISAFIENJO ES CODONES AUDESIANO BUENVIA DECODVO AQUESSA JADVE DEFOJA EN QUE KU MAVDE SO SSERO A CONOCED ES PIESO\n",
      "Plausibilidad: 47.981455000508035\n",
      "Paso 8000\n",
      "Frase actual: PUCFOY ANOY IEYBUEY JDENZE AL BELOZON IE JUYRLAPRENZO EL CODONEL AUDELRANO TUENIRA DECODIO AQUELLA ZADIE DEPOZA EN QUE YU BAIDE LO LLEGO A CONOCED EL FRELO\n",
      "Plausibilidad: 46.7868890125436\n",
      "Paso 9000\n",
      "Frase actual: CUJBOK ASOK VEKLUEK PDESHE AN LENOHOS VE PUKINACIESHO EN JODOSEN AUDENIASO ZUESVIA DEJODVO AQUENNA HADVE DECOHA ES QUE KU LAVDE NO NNEWO A JOSOJED EN BIENO\n",
      "Plausibilidad: 47.86613473242465\n",
      "Estado de la cadena luego de 10 pasos con beta lineal: XVTEHPUWKQCZSALRMNOBJIGFYD\n",
      "Indices intercambiados: [0, 1, 2, 3, 4, 5, 6, 7, 8, 9, 10, 11, 12, 13, 14, 15, 16, 17, 18, 19, 20, 21, 22, 23, 25]\n"
     ]
    },
    {
     "data": {
      "image/png": "[encoded data removed]",
      "text/plain": [
       "<Figure size 432x288 with 1 Axes>"
      ]
     },
     "metadata": {
      "needs_background": "light"
     },
     "output_type": "display_data"
    },
    {
     "data": {
      "image/png": "[encoded data removed]",
      "text/plain": [
       "<Figure size 432x288 with 1 Axes>"
      ]
     },
     "metadata": {
      "needs_background": "light"
     },
     "output_type": "display_data"
    }
   ],
   "source": [
    "beta = lambda x: 10**(-3) * x\n",
    "Niter = 10000\n",
    "beta_lineal, scores_lineal, accuracies_lineal = SADecipher(ciphertext, Niter, beta, plaintext, print_period = 1000)\n",
    "print(f\"Estado de la cadena luego de 10 pasos con beta lineal: {sample_advance}\")\n",
    "print(f\"Indices intercambiados: {[i for i in range(len(example_key)) if 'ABCDEFGHIJKLMNOPQRSTUVWXYZ'[i] != sample_advance[i]]}\")\n",
    "graph_scores(scores_lineal, Niter, \"Plausibilidad de la cadena con beta lineal\")\n",
    "graph_accuracies(accuracies_lineal, Niter, \"Precisión de la cadena con beta lineal\")"
   ]
  },
  {
   "cell_type": "code",
   "execution_count": null,
   "id": "a45d40bc-b81f-4f94-ad76-0cf270e0c867",
   "metadata": {},
   "outputs": [
    {
     "name": "stdout",
     "output_type": "stream",
     "text": [
      "Paso 0\n",
      "Frase actual: NEFOYD ZIYD KLDHELD GWLIRL ZA HLAYRYI KL GEDSAZNSLIRY LA FYWYILA ZEWLASZIY BELIKSZ WLFYWKY ZJELAAZ RZWKL WLNYRZ LI JEL DE HZKWL AY AALCY Z FYIYFLW LA OSLAY\n",
      "Plausibilidad: 36.561081878499465\n"
     ]
    }
   ],
   "source": [
    "beta = lambda x: 10**(-7) * x ** 2\n",
    "Niter = 20000\n",
    "beta_quad, scores_quad, accuracies_quad = SADecipher(ciphertext, Niter, beta, plaintext, print_period = 2000)\n",
    "print(f\"Estado de la cadena luego de 10 pasos con beta lineal: {sample_advance}\")\n",
    "print(f\"Indices intercambiados: {[i for i in range(len(example_key)) if 'ABCDEFGHIJKLMNOPQRSTUVWXYZ'[i] != sample_advance[i]]}\")\n",
    "graph_scores(scores_quad, Niter, \"Plausibilidad de la cadena con beta cuadrático\")\n",
    "graph_accuracies(accuracies_quad, Niter, \"Precisión de la cadena con beta cuadrático\")"
   ]
  },
  {
   "cell_type": "markdown",
   "id": "3bcda40b-41d0-4143-847f-c0a1f5177469",
   "metadata": {},
   "source": [
    "### Test con un texto más largo: Entrada de Roberto Bolaño en Wikipedia"
   ]
  },
  {
   "cell_type": "code",
   "execution_count": null,
   "id": "4f83807c-1d37-4fbb-b83d-b9bdb9cd740b",
   "metadata": {},
   "outputs": [],
   "source": [
    "def read_text(filepath: str):\n",
    "    '''\n",
    "    Lee y limpia un archivo de texto\n",
    "    '''\n",
    "    with open(\"bolano_wikipedia.txt\", 'r') as f:\n",
    "        text = f.readlines()\n",
    "    for i in range(len(text)):\n",
    "        text[i] = text[i].replace('\\n', '')\n",
    "    \n",
    "    text = ' '.join(text)\n",
    "    # Sólo minúsculas\n",
    "    clean_text = text.casefold()\n",
    "\n",
    "    # Eliminar tildes\n",
    "    tilde_dict = {'á':'a', 'é': 'e', 'í': 'i', 'ó':'o', 'ú':'u', 'ñ': 'n'}\n",
    "    for key, value in tilde_dict.items():\n",
    "        clean_text = clean_text.replace(key, value)\n",
    "\n",
    "    # Eliminar caracteres especiales\n",
    "    clean_text = re.sub(r\"[^a-zA-Z ]\", \"\", clean_text)\n",
    "    clean_text = clean_text.upper()\n",
    "    return clean_text\n",
    "\n",
    "test_text = read_text(\"bolano_wikipedia.txt\")\n",
    "print(test_text)\n",
    "print(f\"Cantidad de caracteres: {len(test_text)}\")"
   ]
  },
  {
   "cell_type": "code",
   "execution_count": null,
   "id": "7a48409e-5309-49f0-b3b4-8ec2acc558f9",
   "metadata": {},
   "outputs": [],
   "source": [
    "# Generación de una clave aleatoria\n",
    "real_key = ''.join(random.sample(alphabet[1:], len(alphabet) - 1)) # El primer caracter es un espacio\n",
    "print(f\"Clave : {real_key}\")\n",
    "real_cipher = SimpleSubstitution(real_key)\n",
    "ciphertext = real_cipher.encipher(test_text, keep_punct = True)\n",
    "print(ciphertext)"
   ]
  },
  {
   "cell_type": "code",
   "execution_count": null,
   "id": "1e3b4c5c-c066-419b-9c8b-af9b190bd2a3",
   "metadata": {},
   "outputs": [],
   "source": [
    "beta = lambda x: 5*10**(-8) * x ** 2\n",
    "Niter = 10000\n",
    "beta2, scores2, accuracies2 = SADecipher(ciphertext, Niter, beta, test_text, print_period = 1000)\n",
    "graph_scores(scores2, Niter, \"Plausibilidad de la cadena con texto largo\")\n",
    "graph_accuracies(accuracies2, Niter, \"Precisión de la cadena con texto largo\")"
   ]
  },
  {
   "cell_type": "markdown",
   "id": "05a0dc6f-c8d4-4af7-b830-75e64ec68447",
   "metadata": {},
   "source": [
    "## Ataque de trigrama"
   ]
  }
 ],
 "metadata": {
  "kernelspec": {
   "display_name": "Python 3 (ipykernel)",
   "language": "python",
   "name": "python3"
  },
  "language_info": {
   "codemirror_mode": {
    "name": "ipython",
    "version": 3
   },
   "file_extension": ".py",
   "mimetype": "text/x-python",
   "name": "python",
   "nbconvert_exporter": "python",
   "pygments_lexer": "ipython3",
   "version": "3.9.7"
  }
 },
 "nbformat": 4,
 "nbformat_minor": 5
}
