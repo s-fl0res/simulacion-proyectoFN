{
 "cells": [
  {
   "cell_type": "markdown",
   "id": "0fd9d31e-37ea-444d-9fe8-aa596e461a3f",
   "metadata": {},
   "source": [
    "# Proyecto: Descifrando Mensajes Codificados Usando MCMC\n",
    "\n",
    "Integrantes: Sebastián Flores y Matías Neto\n",
    "\n",
    "## Procesamiento de la fuente de texto"
   ]
  },
  {
   "cell_type": "code",
   "execution_count": 2,
   "id": "0501a677-a035-4322-b11c-594d937db640",
   "metadata": {},
   "outputs": [
    {
     "name": "stdout",
     "output_type": "stream",
     "text": [
      "Collecting pycipher\n",
      "  Downloading pycipher-0.5.2.zip (45 kB)\n",
      "\u001b[2K     \u001b[38;2;114;156;31m━━━━━━━━━━━━━━━━━━━━━━━━━━━━━━━━━━━━━━━━\u001b[0m \u001b[32m45.5/45.5 KB\u001b[0m \u001b[31m3.5 MB/s\u001b[0m eta \u001b[36m0:00:00\u001b[0m\n",
      "\u001b[?25h  Preparing metadata (setup.py) ... \u001b[?25ldone\n",
      "\u001b[?25hBuilding wheels for collected packages: pycipher\n",
      "  Building wheel for pycipher (setup.py) ... \u001b[?25ldone\n",
      "\u001b[?25h  Created wheel for pycipher: filename=pycipher-0.5.2-py3-none-any.whl size=30456 sha256=9de64c40398958bad39dd55ec22b4d2f7946c1fe5d214d3fe7fe9420b2d0b1ac\n",
      "  Stored in directory: /home/sflores/.cache/pip/wheels/ca/e7/37/bf758675337f9b98f096d8f7a5fd0cf320aadd67ae8a12f545\n",
      "Successfully built pycipher\n",
      "Installing collected packages: pycipher\n",
      "Successfully installed pycipher-0.5.2\n",
      "\u001b[33mWARNING: You are using pip version 22.0.4; however, version 23.3.1 is available.\n",
      "You should consider upgrading via the '/home/sflores/anaconda3/bin/python -m pip install --upgrade pip' command.\u001b[0m\u001b[33m\n",
      "\u001b[0mNote: you may need to restart the kernel to use updated packages.\n"
     ]
    }
   ],
   "source": [
    "%pip install pycipher"
   ]
  },
  {
   "cell_type": "code",
   "execution_count": 10,
   "id": "0d6dc3de-bd6f-4e6f-a1d5-c9755ed216aa",
   "metadata": {},
   "outputs": [],
   "source": [
    "import re\n",
    "import random\n",
    "import pandas as pd\n",
    "import numpy as np\n",
    "import matplotlib.pyplot as plt\n",
    "from pycipher import SimpleSubstitution\n"
   ]
  },
  {
   "cell_type": "code",
   "execution_count": 2,
   "id": "100724b9-7149-445a-98ec-d40396017ec0",
   "metadata": {},
   "outputs": [],
   "source": [
    "# Cargar el texto\n",
    "with open(\"gloria_benitoperezgaldos.txt\", \"r\") as f:\n",
    "    text = f.readlines()\n",
    "\n",
    "for i in range(len(text)):\n",
    "    text[i] = text[i].replace('\\n', '')\n",
    "\n",
    "text = ' '.join(text)"
   ]
  },
  {
   "cell_type": "code",
   "execution_count": 3,
   "id": "cd0b1793-2100-4a11-b0aa-03fc394fa18f",
   "metadata": {},
   "outputs": [],
   "source": [
    "# Sólo minúsculas\n",
    "clean_text = text.casefold()\n",
    "\n",
    "# Eliminar tildes\n",
    "tilde_dict = {'á':'a', 'é': 'e', 'í': 'i', 'ó':'o', 'ú':'u', 'ñ': 'n'}\n",
    "for key, value in tilde_dict.items():\n",
    "    clean_text = clean_text.replace(key, value)\n",
    "\n",
    "# Eliminar caracteres especiales\n",
    "clean_text = re.sub(r\"[^a-zA-Z ]\", \"\", clean_text)\n",
    "clean_text = clean_text.upper()"
   ]
  },
  {
   "cell_type": "code",
   "execution_count": 4,
   "id": "e0a59193-4884-4b25-b48a-5bdbbece3b7e",
   "metadata": {},
   "outputs": [],
   "source": [
    "def process(word, matrix):\n",
    "    '''\n",
    "    Almacena la frecuencia de transiciones de una palabra en una matriz\n",
    "    \n",
    "    Argumentos:\n",
    "        word (string): Palabra a procesar\n",
    "        matrix (pd.DataFrame): Matriz de transición\n",
    "    \n",
    "    Retorna:\n",
    "        matrix (pd.DataFrame): Matriz de transición actualizada con\n",
    "                               la palabra procesada\n",
    "    '''\n",
    "    letters = list(word)\n",
    "    matrix.loc[' ', letters[0]] = matrix.loc[' ', letters[0]] + 1\n",
    "    for i in range(len(word)-1):\n",
    "        matrix.loc[letters[i], letters[i+1]] = matrix.loc[letters[i], letters[i+1]] + 1\n",
    "    matrix.loc[letters[len(word)-1], ' '] = matrix.loc[letters[len(word)-1], ' '] + 1\n",
    "    return matrix"
   ]
  },
  {
   "cell_type": "code",
   "execution_count": 5,
   "id": "ca3423d7-dd12-4316-818e-3fb4261d7830",
   "metadata": {},
   "outputs": [],
   "source": [
    "# Creación de la matriz\n",
    "alphabet = sorted(''.join(set(clean_text)))\n",
    "matrix = pd.DataFrame(data=np.zeros((len(alphabet), len(alphabet))), index=alphabet, columns=alphabet)\n",
    "words = clean_text.split()\n",
    "\n",
    "# Se demora unos minutos\n",
    "for word in words:\n",
    "    matrix = process(word, matrix)\n",
    "transition = matrix.apply(lambda x: x/np.sum(x), axis=1)"
   ]
  },
  {
   "cell_type": "markdown",
   "id": "d1263ba4-ff81-4845-abc2-0b668cd8e126",
   "metadata": {},
   "source": [
    "## Definición de funciones auxiliares para la minimización"
   ]
  },
  {
   "cell_type": "code",
   "execution_count": 66,
   "id": "89bbef93-6bd6-4569-8283-571767a3cb66",
   "metadata": {},
   "outputs": [
    {
     "name": "stdout",
     "output_type": "stream",
     "text": [
      "Texto cifrado: OHPLYE ATYE CZEUHZE WGZTNZ AK UZKYNYT CZ WHEFKAOFZTNY ZK PYGYTZK AHGZKFATY JHZTCFA GZPYGCY AQHZKKA NAGCZ GZOYNA ZT QHZ EH UACGZ KY KKZXY A PYTYPZG ZK LFZKY\n",
      "Plausibilidad: 47.44776747911044\n"
     ]
    }
   ],
   "source": [
    "def plausibility(ciphertext, key, matrix = transition):\n",
    "    '''\n",
    "    Función de plausibilidad que tiene el rol de -U para SA\n",
    "    \n",
    "    Argumentos:\n",
    "        ciphertext (string): Texto codificado\n",
    "        key (string): Clave del mismo largo que el alfabeto a testear\n",
    "        matrix (pd.DataFrame): Matriz de transición construida antes\n",
    "    \n",
    "    Retorna:\n",
    "        plausibility (float): valor de la plausibilidad para key\n",
    "    '''\n",
    "    cipher = SimpleSubstitution(key)\n",
    "    plaintext = cipher.decipher(ciphertext, keep_punct = True)\n",
    "    words = plaintext.split()\n",
    "    matrix = pd.DataFrame(data=np.zeros((len(alphabet), len(alphabet))), index=alphabet, columns=alphabet)\n",
    "    for word in words:\n",
    "        matrix = process(word, matrix)\n",
    "    plausibility = np.product((1 + transition.to_numpy()) ** (1 + matrix.to_numpy()))\n",
    "    return np.log(plausibility)\n",
    "\n",
    "# Ejemplo\n",
    "plaintext = \"MUCHOS ANOS DESPUES FRENTE AL PELOTON DE FUSILAMIENTO \" + \\\n",
    "            \"EL CORONEL AURELIANO BUENDIA RECORDO AQUELLA TARDE REMOTA \" + \\\n",
    "            \"EN QUE SU PADRE LO LLEVO A CONOCER EL HIELO\"\n",
    "real_key = \"AJPCZWRLFBDKOTYUQGENHXMIVS\"\n",
    "real_cipher = SimpleSubstitution(real_key)\n",
    "ciphertext = real_cipher.encipher(plaintext, keep_punct = True)\n",
    "print(f\"Texto cifrado: {ciphertext}\")\n",
    "print(f\"Plausibilidad: {plausibility(ciphertext, real_key)}\")"
   ]
  },
  {
   "cell_type": "code",
   "execution_count": 57,
   "id": "27adcf23-9b05-4da7-9da4-c316f0e503fd",
   "metadata": {},
   "outputs": [
    {
     "name": "stdout",
     "output_type": "stream",
     "text": [
      "Clave ejemplo: KAFGZCMNHJSWDQBRYXLEUIOPVT\n",
      "Texto descifrado con la clave: WIXSQT BZQT FETUIET LDEZHE BA UEAQHQZ FE LITCABWCEZHQ EA XQDQZEA BIDEACBZQ JIEZFCB DEXQDFQ BNIEAAB HBDFE DEWQHB EZ NIE TI UBFDE AQ AAERQ B XQZQXED EA SCEAQ\n",
      "Plausibilidad: 33.456961934589145\n"
     ]
    }
   ],
   "source": [
    "# Ejemplo para ver que efectivamente la plausibilidad es menor\n",
    "example_key = ''.join(random.sample(real_key, len(real_key)))\n",
    "print(\"Clave ejemplo: \" + example_key)\n",
    "example_cipher = SimpleSubstitution(example_key)\n",
    "print(\"Texto descifrado con la clave: \"+example_cipher.decipher(ciphertext, keep_punct=True))\n",
    "print(f\"Plausibilidad: {plausibility(ciphertext, example_key)}\")"
   ]
  },
  {
   "cell_type": "code",
   "execution_count": 74,
   "id": "fa661f1e-7743-401d-83bd-97c4e9fffc9e",
   "metadata": {},
   "outputs": [
    {
     "name": "stdout",
     "output_type": "stream",
     "text": [
      "Clave ejemplo: KAFGZCMNHJSWDQBRYXLEUIOPVT\n",
      "Vecino: GAFKZCMNHJSWDQBRYXLEUIOPVT\n",
      "Indices intercambiados: [0, 3]\n"
     ]
    }
   ],
   "source": [
    "def neighbor(key):\n",
    "    '''\n",
    "    Retorna un vecino aleatorio (con distribución uniforme) de la clave\n",
    "    \n",
    "    Argumentos:\n",
    "        key (str): Clave representada por una permutación del alfabeto\n",
    "    \n",
    "    Retorna:\n",
    "        new_key (str): Clave vecina a key\n",
    "    '''\n",
    "    indices = random.sample(list(np.arange(len(key))), 2)\n",
    "    symbol_a, symbol_b = key[indices[0]], key[indices[1]]\n",
    "    new_key = list(key)\n",
    "    new_key[indices[0]] = symbol_b\n",
    "    new_key[indices[1]] = symbol_a\n",
    "    new_key = ''.join(new_key)\n",
    "    return new_key\n",
    "\n",
    "nghbr = neighbor(example_key)\n",
    "print(f\"Clave ejemplo: {example_key}\")\n",
    "print(f\"Vecino: {nghbr}\")\n",
    "print(f\"Indices intercambiados: {[i for i in range(len(example_key)) if example_key[i] != nghbr[i]]}\")"
   ]
  },
  {
   "cell_type": "code",
   "execution_count": 70,
   "id": "875013e0-2cd1-42e0-8cd3-293e17b85261",
   "metadata": {},
   "outputs": [
    {
     "data": {
      "text/plain": [
       "'ABCDEFGHIJKLMNOPQRSTUVWXYZ'"
      ]
     },
     "execution_count": 70,
     "metadata": {},
     "output_type": "execute_result"
    }
   ],
   "source": [
    "''.join(sorted(list(real_key)))"
   ]
  },
  {
   "cell_type": "markdown",
   "id": "4b6058b4-ad91-446c-8310-dfad4b0694b9",
   "metadata": {},
   "source": [
    "## Optimización"
   ]
  },
  {
   "cell_type": "code",
   "execution_count": 60,
   "id": "375e7949-360c-4c79-bcc9-e08e098abdec",
   "metadata": {},
   "outputs": [
    {
     "name": "stdout",
     "output_type": "stream",
     "text": [
      "Estado de la cadena luego de 10 pasos con beta = 1: APCOEFNGTJKLMHBDIRSQUVWZYX\n",
      "Indices intercambiados: [1, 3, 6, 7, 8, 13, 14, 15, 16, 19, 23, 25]\n"
     ]
    }
   ],
   "source": [
    "def SADecipher(ciphertext: str, Niter: int, beta,\n",
    "               initial_key = 'ABCDEFGHIJKLMNOPQRSTUVWXYZ',\n",
    "               print_period = None):\n",
    "    '''\n",
    "    Función que implementa Simmulated Annealing \n",
    "    para el problema de descifrado\n",
    "    \n",
    "    Argumentos:\n",
    "        ciphertext: Código a descifrar\n",
    "        Niter: Número de pasos a realizar\n",
    "        beta (fun): Función que representa el beta del método de SA\n",
    "        initial_key (str): una clave inicial para el algoritmo\n",
    "        print_period: Representa el periodo de actualización. \n",
    "            Si no es None, se imprime el estado de la cadena\n",
    "            y la plausibilidad cada print_period pasos\n",
    "    \n",
    "    Retorna:\n",
    "        key: Estado de la cadena luego de Niter pasos\n",
    "    '''\n",
    "    \n",
    "    U = np.random.uniform(0, 1, size = Niter)\n",
    "    key = initial_key\n",
    "    incumbent_plaus = plausibility(ciphertext, key)\n",
    "    scores = np.zeros(Niter)\n",
    "    if print_period == None:\n",
    "        for i in range(Niter):\n",
    "            scores[i] = incumbent_plaus\n",
    "            new_key = neighbor(key)\n",
    "            new_plaus = plausibility(ciphertext, new_key)\n",
    "            if U[i] <= np.exp(beta(i) * (new_plaus - incumbent_plaus)):\n",
    "                key = new_key\n",
    "                incumbent_plaus = new_plaus\n",
    "    else:\n",
    "        for i in range(Niter):\n",
    "            scores[i] = incumbent_plaus\n",
    "            new_key = neighbor(key)\n",
    "            new_plaus = plausibility(ciphertext, new_key)\n",
    "            if U[i] <= np.exp(beta(i) * (new_plaus - incumbent_plaus)):\n",
    "                key = new_key\n",
    "                incumbent_plaus = new_plaus\n",
    "            if i % print_period == 0:\n",
    "                cipher = SimpleSubstitution(key)\n",
    "                print(f\"Paso {i}\")\n",
    "                print(f\"Frase actual: {cipher.decipher(ciphertext, keep_punct = True)}\")\n",
    "                print(f\"Plausibilidad: {incumbent_plaus}\")\n",
    "    return key, scores\n",
    "\n",
    "# Test de SADecipher\n",
    "beta = lambda x: 1     \n",
    "sample_advance, sample_scores = SADecipher(ciphertext, 10, beta)\n",
    "print(f\"Estado de la cadena luego de 10 pasos con beta = 1: {sample_advance}\")\n",
    "print(f\"Indices intercambiados: {[i for i in range(len(example_key)) if 'ABCDEFGHIJKLMNOPQRSTUVWXYZ'[i] != sample_advance[i]]}\")"
   ]
  },
  {
   "cell_type": "code",
   "execution_count": 61,
   "id": "c0631820-0b96-43d0-bd0b-8b14cbfbbff2",
   "metadata": {},
   "outputs": [
    {
     "data": {
      "image/png": "[encoded data removed]",
      "text/plain": [
       "<Figure size 432x288 with 1 Axes>"
      ]
     },
     "metadata": {
      "needs_background": "light"
     },
     "output_type": "display_data"
    }
   ],
   "source": [
    "def graph_scores(scores, Niter, title):\n",
    "    plt.figure()\n",
    "    plt.plot(np.arange(Niter) + 1, scores)\n",
    "    plt.title(title)\n",
    "    plt.xlabel(\"Pasos\")\n",
    "    plt.ylabel(\"Plausibilidad\")\n",
    "    plt.show()\n",
    "    return \n",
    "\n",
    "graph_scores(sample_scores, 10, \"Plausibilidad en diez pasos de la cadena\")"
   ]
  },
  {
   "cell_type": "code",
   "execution_count": 62,
   "id": "80ca6bd4-487e-4153-8cbb-d0c1e87139fa",
   "metadata": {},
   "outputs": [
    {
     "name": "stdout",
     "output_type": "stream",
     "text": [
      "Paso 0\n",
      "Frase actual: OHPNYE ATYE CZEUHZE WGZTLZ AK UZKYLYT CZ WHEFKAOFZTLY ZK PYGYTZK AHGZKFATY JHZTCFA GZPYGCY AQHZKKA LAGCZ GZOYLA ZT QHZ EH UACGZ KY KKZXY A PYTYPZG ZK NFZKY\n",
      "Plausibilidad: 35.66793662482362\n",
      "Paso 1000\n",
      "Frase actual: FKVWNC QUNC ODCXKDC MHDULD QY XDYNLNU OD MKCIYQFIDULN DY VNHNUDY QKHDYIQUN JKDUOIQ HDVNHON QEKDYYQ LQHOD HDFNLQ DU EKD CK XQOHD YN YYDTN Q VNUNVDH DY WIDYN\n",
      "Plausibilidad: 33.77144844060628\n",
      "Paso 2000\n",
      "Frase actual: QIMHAK LRAK EOKVIOK DCORTO LY VOYATAR EO DIKGYLQGORTA OY MACAROY LICOYGLRA BIOREGL COMACEA LXIOYYL TLCEO COQATL OR XIO KI VLECO YA YYOUA L MARAMOC OY HGOYA\n",
      "Plausibilidad: 42.46537476734463\n",
      "Paso 3000\n",
      "Frase actual: JUHPAN YRAN VENXUEN GDERLE YS XESALAR VE GUNOSYJOERLA ES HADARES YUDESOYRA CUERVOY DEHADVA YQUESSY LYDVE DEJALY ER QUE NU XYVDE SA SSEMA Y HARAHED ES POESA\n",
      "Plausibilidad: 46.790203613021625\n",
      "Paso 4000\n",
      "Frase actual: LUMHAK OSAK TEKPUEK FDESZE OY PEYAZAS TE FUKIYOLIESZA EY MADASEY OUDEYIOSA CUESTIO DEMADTA OQUEYYO ZODTE DELAZO ES QUE KU POTDE YA YYEVA O MASAMED EY HIEYA\n",
      "Plausibilidad: 47.10571781916229\n",
      "Paso 5000\n",
      "Frase actual: CUHMOY ANOY GEYFUEY BDENJE AS FESOJON GE BUYISACIENJO ES HODONES AUDESIANO LUENGIA DEHODGO AQUESSA JADGE DECOJA EN QUE YU FAGDE SO SSERO A HONOHED ES MIESO\n",
      "Plausibilidad: 46.80845277748448\n",
      "Paso 6000\n",
      "Frase actual: JUDMOS ANOS IESFUES XRENTE AY FEYOTON IE XUSHYAJHENTO EY DORONEY AUREYHANO CUENIHA REDORIO AQUEYYA TARIE REJOTA EN QUE SU FAIRE YO YYEWO A DONODER EY MHEYO\n",
      "Plausibilidad: 46.53668808436415\n",
      "Paso 7000\n",
      "Frase actual: ZUYCOS ANOS WESBUES PDENHE AL BELOHON WE PUSTLAZTENHO EL YODONEL AUDELTANO JUENWTA DEYODWO AQUELLA HADWE DEZOHA EN QUE SU BAWDE LO LLEGO A YONOYED EL CTELO\n",
      "Plausibilidad: 46.453978463711\n",
      "Paso 8000\n",
      "Frase actual: ZUYHOK ANOK DEKWUEK GVENLE AS WESOLON DE GUKISAZIENLO ES YOVONES AUVESIANO PUENDIA VEYOVDO AQUESSA LAVDE VEZOLA EN QUE KU WADVE SO SSECO A YONOYEV ES HIESO\n",
      "Plausibilidad: 46.74157418346607\n",
      "Paso 9000\n",
      "Frase actual: GUPTOK ANOK VEKLUEK CDENHE AS LESOHON VE CUKISAGIENHO ES PODONES AUDESIANO FUENVIA DEPODVO AQUESSA HADVE DEGOHA EN QUE KU LAVDE SO SSEJO A PONOPED ES TIESO\n",
      "Plausibilidad: 48.14422985560091\n",
      "Estado de la cadena luego de 10 pasos con beta lineal: APCOEFNGTJKLMHBDIRSQUVWZYX\n",
      "Indices intercambiados: [1, 3, 6, 7, 8, 13, 14, 15, 16, 19, 23, 25]\n"
     ]
    },
    {
     "data": {
      "image/png": "[encoded data removed]",
      "text/plain": [
       "<Figure size 432x288 with 1 Axes>"
      ]
     },
     "metadata": {
      "needs_background": "light"
     },
     "output_type": "display_data"
    }
   ],
   "source": [
    "beta = lambda x: 10**(-3) * x\n",
    "Niter = 10000\n",
    "beta_lineal, scores_lineal = SADecipher(ciphertext, Niter, beta, print_period = 1000)\n",
    "print(f\"Estado de la cadena luego de 10 pasos con beta lineal: {sample_advance}\")\n",
    "print(f\"Indices intercambiados: {[i for i in range(len(example_key)) if 'ABCDEFGHIJKLMNOPQRSTUVWXYZ'[i] != sample_advance[i]]}\")\n",
    "graph_scores(scores_lineal, Niter, \"Plausibilidad de la cadena con beta lineal\")"
   ]
  },
  {
   "cell_type": "code",
   "execution_count": 76,
   "id": "a45d40bc-b81f-4f94-ad76-0cf270e0c867",
   "metadata": {},
   "outputs": [
    {
     "name": "stdout",
     "output_type": "stream",
     "text": [
      "Paso 0\n",
      "Frase actual: OHPLYE ATYE CZEUHZE XGZTNZ AK UZKYNYT CZ XHEFKAOFZTNY ZK PYGYTZK AHGZKFATY JHZTCFA GZPYGCY AQHZKKA NAGCZ GZOYNA ZT QHZ EH UACGZ KY KKZWY A PYTYPZG ZK LFZKY\n",
      "Plausibilidad: 35.37616047725922\n",
      "Paso 1000\n",
      "Frase actual: FOQACN LVCN ZGNIOGN TXGVJG LW IGWCJCV ZG TONBWLFBGVJC GW QCXCVGW LOXGWBLVC UOGVZBL XGQCXZC LHOGWWL JLXZG XGFCJL GV HOG NO ILZXG WC WWGRC L QCVCQGX GW ABGWC\n",
      "Plausibilidad: 29.886776210638025\n",
      "Paso 2000\n",
      "Frase actual: WVAIBS TRBS NYSPVYS OKYRLY TU PYUBLBR NY OVSFUTWFYRLB YU ABKBRYU TVKYUFTRB ZVYRNFT KYABKNB TMVYUUT LTKNY KYWBLT YR MVY SV PTNKY UB UUYGB T ABRBAYK YU IFYUB\n",
      "Plausibilidad: 32.5529743994809\n",
      "Paso 3000\n",
      "Frase actual: PIHBAY XOAY TEYLIEY FVEOZE XS LESAZAO TE FIYDSXPDEOZA ES HAVAOES XIVESDXOA RIEOTDX VEHAVTA XGIESSX ZXVTE VEPAZX EO GIE YI LXTVE SA SSEMA X HAOAHEV ES BDESA\n",
      "Plausibilidad: 41.343528916747545\n",
      "Paso 4000\n",
      "Frase actual: BTDUIE YRIE POECTOE FVORGO YA COAIGIR PO FTESAYBSORGI OA DIVIROA YTVOASYRI MTORPSY VODIVPI YXTOAAY GYVPO VOBIGY OR XTO ET CYPVO AI AAOKI Y DIRIDOV OA USOAI\n",
      "Plausibilidad: 38.79928608289779\n",
      "Paso 5000\n",
      "Frase actual: NRVBAY OSAY XEYCREY FUESDE OL CELADAS XE FRYTLONTESDA EL VAUASEL ORUELTOSA KRESXTO UEVAUXA OZRELLO DOUXE UENADO ES ZRE YR COXUE LA LLEHA O VASAVEU EL BTELA\n",
      "Plausibilidad: 43.74573759544071\n",
      "Paso 6000\n",
      "Frase actual: CWDIOY ANOY JEYPWEY GUENTE AL PELOTON JE GWYSLACSENTO EL DOUONEL AWUELSANO BWENJSA UEDOUJO AZWELLA TAUJE UECOTA EN ZWE YW PAJUE LO LLEFO A DONODEU EL ISELO\n",
      "Plausibilidad: 44.25384958779929\n",
      "Paso 7000\n",
      "Frase actual: RUCNOK ASOK PEKHUEK VDESJE AL HELOJOS PE VUKTLARTESJO EL CODOSEL AUDELTASO FUESPTA DECODPO AQUELLA JADPE DEROJA ES QUE KU HAPDE LO LLEGO A COSOCED EL NTELO\n",
      "Plausibilidad: 47.16550344981187\n",
      "Paso 8000\n",
      "Frase actual: PUCGOK AROK TEKHUEK YDERJE AL HELOJOR TE YUKILAPIERJO EL CODOREL AUDELIARO FUERTIA DECODTO AQUELLA JADTE DEPOJA ER QUE KU HATDE LO LLEVO A COROCED EL GIELO\n",
      "Plausibilidad: 46.78475606359191\n",
      "Paso 9000\n",
      "Frase actual: BUJGOY AKOY IEYLUEY MDEKHE AS LESOHOK IE MUYTSABTEKHO ES JODOKES AUDESTAKO FUEKITA DEJODIO AQUESSA HADIE DEBOHA EK QUE YU LAIDE SO SSENO A JOKOJED ES GTESO\n",
      "Plausibilidad: 46.59762647736522\n",
      "Estado de la cadena luego de 10 pasos con beta lineal: APCOEFNGTJKLMHBDIRSQUVWZYX\n",
      "Indices intercambiados: [1, 3, 6, 7, 8, 13, 14, 15, 16, 19, 23, 25]\n"
     ]
    },
    {
     "data": {
      "image/png": "[encoded data removed]",
      "text/plain": [
       "<Figure size 432x288 with 1 Axes>"
      ]
     },
     "metadata": {
      "needs_background": "light"
     },
     "output_type": "display_data"
    }
   ],
   "source": [
    "beta = lambda x: 10**(-7) * x ** 2\n",
    "Niter = 10000\n",
    "beta_quad, scores_quad = SADecipher(ciphertext, Niter, beta, print_period = 1000)\n",
    "print(f\"Estado de la cadena luego de 10 pasos con beta lineal: {sample_advance}\")\n",
    "print(f\"Indices intercambiados: {[i for i in range(len(example_key)) if 'ABCDEFGHIJKLMNOPQRSTUVWXYZ'[i] != sample_advance[i]]}\")\n",
    "graph_scores(scores_quad, Niter, \"Plausibilidad de la cadena con beta cuadrático\")"
   ]
  },
  {
   "cell_type": "code",
   "execution_count": null,
   "id": "906f41a1-ee98-4ac6-8a83-05b2d21cdc45",
   "metadata": {},
   "outputs": [],
   "source": []
  }
 ],
 "metadata": {
  "kernelspec": {
   "display_name": "Python 3 (ipykernel)",
   "language": "python",
   "name": "python3"
  },
  "language_info": {
   "codemirror_mode": {
    "name": "ipython",
    "version": 3
   },
   "file_extension": ".py",
   "mimetype": "text/x-python",
   "name": "python",
   "nbconvert_exporter": "python",
   "pygments_lexer": "ipython3",
   "version": "3.9.7"
  }
 },
 "nbformat": 4,
 "nbformat_minor": 5
}
