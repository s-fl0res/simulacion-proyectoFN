{
 "cells": [
  {
   "cell_type": "markdown",
   "id": "0fd9d31e-37ea-444d-9fe8-aa596e461a3f",
   "metadata": {},
   "source": [
    "# Proyecto: Descifrando Mensajes Codificados Usando MCMC\n",
    "\n",
    "Integrantes: Sebastián Flores y Matías Neto\n",
    "\n",
    "## Procesamiento de la fuente de texto"
   ]
  },
  {
   "cell_type": "code",
   "execution_count": 1,
   "id": "0501a677-a035-4322-b11c-594d937db640",
   "metadata": {},
   "outputs": [
    {
     "name": "stdout",
     "output_type": "stream",
     "text": [
      "Requirement already satisfied: pycipher in /home/sflores/anaconda3/lib/python3.9/site-packages (0.5.2)\n",
      "\u001b[33mWARNING: You are using pip version 22.0.4; however, version 23.3.1 is available.\n",
      "You should consider upgrading via the '/home/sflores/anaconda3/bin/python -m pip install --upgrade pip' command.\u001b[0m\u001b[33m\n",
      "\u001b[0mNote: you may need to restart the kernel to use updated packages.\n"
     ]
    }
   ],
   "source": [
    "%pip install pycipher"
   ]
  },
  {
   "cell_type": "code",
   "execution_count": 2,
   "id": "0d6dc3de-bd6f-4e6f-a1d5-c9755ed216aa",
   "metadata": {},
   "outputs": [],
   "source": [
    "import re\n",
    "import random\n",
    "import pandas as pd\n",
    "import numpy as np\n",
    "import matplotlib.pyplot as plt\n",
    "from pycipher import SimpleSubstitution\n"
   ]
  },
  {
   "cell_type": "code",
   "execution_count": 3,
   "id": "100724b9-7149-445a-98ec-d40396017ec0",
   "metadata": {},
   "outputs": [],
   "source": [
    "# Cargar el texto\n",
    "with open(\"gloria_benitoperezgaldos.txt\", \"r\") as f:\n",
    "    text = f.readlines()\n",
    "\n",
    "for i in range(len(text)):\n",
    "    text[i] = text[i].replace('\\n', '')\n",
    "\n",
    "text = ' '.join(text)"
   ]
  },
  {
   "cell_type": "code",
   "execution_count": 4,
   "id": "cd0b1793-2100-4a11-b0aa-03fc394fa18f",
   "metadata": {},
   "outputs": [],
   "source": [
    "# Sólo minúsculas\n",
    "clean_text = text.casefold()\n",
    "\n",
    "# Eliminar tildes\n",
    "tilde_dict = {'á':'a', 'é': 'e', 'í': 'i', 'ó':'o', 'ú':'u', 'ñ': 'n'}\n",
    "for key, value in tilde_dict.items():\n",
    "    clean_text = clean_text.replace(key, value)\n",
    "\n",
    "# Eliminar caracteres especiales\n",
    "clean_text = re.sub(r\"[^a-zA-Z ]\", \"\", clean_text)\n",
    "clean_text = clean_text.upper()"
   ]
  },
  {
   "cell_type": "code",
   "execution_count": 5,
   "id": "e0a59193-4884-4b25-b48a-5bdbbece3b7e",
   "metadata": {},
   "outputs": [],
   "source": [
    "def process(word, matrix):\n",
    "    '''\n",
    "    Almacena la frecuencia de transiciones de una palabra en una matriz\n",
    "    \n",
    "    Argumentos:\n",
    "        word (string): Palabra a procesar\n",
    "        matrix (pd.DataFrame): Matriz de transición\n",
    "    \n",
    "    Retorna:\n",
    "        matrix (pd.DataFrame): Matriz de transición actualizada con\n",
    "                               la palabra procesada\n",
    "    '''\n",
    "    letters = list(word)\n",
    "    matrix.loc[' ', letters[0]] = matrix.loc[' ', letters[0]] + 1\n",
    "    for i in range(len(word)-1):\n",
    "        matrix.loc[letters[i], letters[i+1]] = matrix.loc[letters[i], letters[i+1]] + 1\n",
    "    matrix.loc[letters[len(word)-1], ' '] = matrix.loc[letters[len(word)-1], ' '] + 1\n",
    "    return matrix"
   ]
  },
  {
   "cell_type": "code",
   "execution_count": 6,
   "id": "ca3423d7-dd12-4316-818e-3fb4261d7830",
   "metadata": {},
   "outputs": [],
   "source": [
    "# Creación de la matriz\n",
    "alphabet = sorted(''.join(set(clean_text)))\n",
    "matrix = pd.DataFrame(data=np.zeros((len(alphabet), len(alphabet))), index=alphabet, columns=alphabet)\n",
    "words = clean_text.split()\n",
    "\n",
    "# Se demora unos minutos\n",
    "for word in words:\n",
    "    matrix = process(word, matrix)\n",
    "transition = matrix.apply(lambda x: x/np.sum(x), axis=1)"
   ]
  },
  {
   "cell_type": "markdown",
   "id": "38181b50-c6e6-4380-8778-9f3d960d604e",
   "metadata": {},
   "source": [
    "### Matriz para ataque de trigrama"
   ]
  },
  {
   "cell_type": "code",
   "execution_count": 24,
   "id": "b3069266-3ac9-4133-898a-869ca6ea9f51",
   "metadata": {},
   "outputs": [],
   "source": [
    "def trig_process(word, matrix):\n",
    "    '''\n",
    "    Almacena la frecuencia de transiciones de una palabra en una matriz\n",
    "    \n",
    "    Argumentos:\n",
    "        word (string): Palabra a procesar\n",
    "        matrix (pd.DataFrame): Matriz de transición\n",
    "    \n",
    "    Retorna:\n",
    "        matrix (pd.DataFrame): Matriz de transición actualizada con\n",
    "                               la palabra procesada\n",
    "    '''\n",
    "    letters = list(word)\n",
    "    if len(word) == 1:\n",
    "        matrix.loc[' ' + letters[0], ' '] = matrix.loc[' ' + letters[0], ' '] + 1\n",
    "    else:\n",
    "        matrix.loc[' ' + letters[0], letters[1]] = matrix.loc[' ' + letters[0], letters[1]] + 1\n",
    "        for i in range(len(word)-2):\n",
    "            matrix.loc[letters[i] + letters[i+1], letters[i+2]] = matrix.loc[letters[i] + letters[i+1], letters[i+2]] + 1\n",
    "        matrix.loc[letters[-2] + letters[-1], ' '] = matrix.loc[letters[-2] + letters[-1], ' '] + 1\n",
    "    return matrix\n",
    "\n",
    "trig_index = [f + s for f in list(alphabet) for s in list(alphabet[1:])]\n",
    "trig_columns = alphabet\n",
    "trig_matrix = pd.DataFrame(data=np.zeros((len(trig_index), len(trig_columns))), index=trig_index, columns=trig_columns)\n",
    "\n",
    "for word in words:\n",
    "    trig_matrix = trig_process(word, trig_matrix)\n",
    "trig_transition = trig_matrix.apply(lambda x: x/np.sum(x), axis=1)"
   ]
  },
  {
   "cell_type": "markdown",
   "id": "d1263ba4-ff81-4845-abc2-0b668cd8e126",
   "metadata": {},
   "source": [
    "## Definición de funciones auxiliares para la minimización"
   ]
  },
  {
   "cell_type": "code",
   "execution_count": 12,
   "id": "89bbef93-6bd6-4569-8283-571767a3cb66",
   "metadata": {},
   "outputs": [
    {
     "name": "stdout",
     "output_type": "stream",
     "text": [
      "Texto cifrado: OHPLYE ATYE CZEUHZE WGZTNZ AK UZKYNYT CZ WHEFKAOFZTNY ZK PYGYTZK AHGZKFATY JHZTCFA GZPYGCY AQHZKKA NAGCZ GZOYNA ZT QHZ EH UACGZ KY KKZXY A PYTYPZG ZK LFZKY\n",
      "Plausibilidad: 47.44776747911044\n"
     ]
    }
   ],
   "source": [
    "def plausibility(ciphertext, key, matrix = transition):\n",
    "    '''\n",
    "    Función de plausibilidad que tiene el rol de -U para SA\n",
    "    \n",
    "    Argumentos:\n",
    "        ciphertext (string): Texto codificado\n",
    "        key (string): Clave del mismo largo que el alfabeto a testear\n",
    "        matrix (pd.DataFrame): Matriz de transición construida antes\n",
    "    \n",
    "    Retorna:\n",
    "        plausibility (float): valor de la plausibilidad para key\n",
    "    '''\n",
    "    cipher = SimpleSubstitution(key)\n",
    "    plaintext = cipher.decipher(ciphertext, keep_punct = True)\n",
    "    words = plaintext.split()\n",
    "    matrix = pd.DataFrame(data=np.zeros((len(alphabet), len(alphabet))), index=alphabet, columns=alphabet)\n",
    "    for word in words:\n",
    "        matrix = process(word, matrix)\n",
    "    plausibility = np.sum((1 + matrix.to_numpy()) * np.log(1 + transition.to_numpy()))\n",
    "    return plausibility\n",
    "\n",
    "# Ejemplo\n",
    "plaintext = \"MUCHOS ANOS DESPUES FRENTE AL PELOTON DE FUSILAMIENTO \" + \\\n",
    "            \"EL CORONEL AURELIANO BUENDIA RECORDO AQUELLA TARDE REMOTA \" + \\\n",
    "            \"EN QUE SU PADRE LO LLEVO A CONOCER EL HIELO\"\n",
    "real_key = \"AJPCZWRLFBDKOTYUQGENHXMIVS\"\n",
    "real_cipher = SimpleSubstitution(real_key)\n",
    "ciphertext = real_cipher.encipher(plaintext, keep_punct = True)\n",
    "print(f\"Texto cifrado: {ciphertext}\")\n",
    "print(f\"Plausibilidad: {plausibility(ciphertext, real_key)}\")"
   ]
  },
  {
   "cell_type": "code",
   "execution_count": 14,
   "id": "27adcf23-9b05-4da7-9da4-c316f0e503fd",
   "metadata": {},
   "outputs": [
    {
     "name": "stdout",
     "output_type": "stream",
     "text": [
      "Clave ejemplo: AZLCRSIEFTKGHWXDVJMYPQOBNU\n",
      "Texto descifrado con la clave: WMUCTH AJTH DBHZMBH NLBJYB AK ZBKTYTJ DB NMHIKAWIBJYT BK UTLTJBK AMLBKIAJT RMBJDIA LBUTLDT AVMBKKA YALDB LBWTYA BJ VMB HM ZADLB KT KKBOT A UTJTUBL BK CIBKT\n",
      "Plausibilidad: 31.94764944429556\n"
     ]
    }
   ],
   "source": [
    "# Ejemplo para ver que efectivamente la plausibilidad es menor\n",
    "example_key = ''.join(random.sample(real_key, len(real_key)))\n",
    "print(\"Clave ejemplo: \" + example_key)\n",
    "example_cipher = SimpleSubstitution(example_key)\n",
    "print(\"Texto descifrado con la clave: \"+example_cipher.decipher(ciphertext, keep_punct=True))\n",
    "print(f\"Plausibilidad: {plausibility(ciphertext, example_key)}\")"
   ]
  },
  {
   "cell_type": "code",
   "execution_count": 9,
   "id": "fa661f1e-7743-401d-83bd-97c4e9fffc9e",
   "metadata": {},
   "outputs": [
    {
     "name": "stdout",
     "output_type": "stream",
     "text": [
      "Clave ejemplo: DBUXNVLCHZGAKOPJMTWEISQFRY\n",
      "Vecino: DBUXNVHCLZGAKOPJMTWEISQFRY\n",
      "Indices intercambiados: [6, 8]\n"
     ]
    }
   ],
   "source": [
    "def neighbor(key):\n",
    "    '''\n",
    "    Retorna un vecino aleatorio (con distribución uniforme) de la clave\n",
    "    \n",
    "    Argumentos:\n",
    "        key (str): Clave representada por una permutación del alfabeto\n",
    "    \n",
    "    Retorna:\n",
    "        new_key (str): Clave vecina a key\n",
    "    '''\n",
    "    indices = random.sample(list(np.arange(len(key))), 2)\n",
    "    symbol_a, symbol_b = key[indices[0]], key[indices[1]]\n",
    "    new_key = list(key)\n",
    "    new_key[indices[0]] = symbol_b\n",
    "    new_key[indices[1]] = symbol_a\n",
    "    new_key = ''.join(new_key)\n",
    "    return new_key\n",
    "\n",
    "nghbr = neighbor(example_key)\n",
    "print(f\"Clave ejemplo: {example_key}\")\n",
    "print(f\"Vecino: {nghbr}\")\n",
    "print(f\"Indices intercambiados: {[i for i in range(len(example_key)) if example_key[i] != nghbr[i]]}\")"
   ]
  },
  {
   "cell_type": "code",
   "execution_count": 10,
   "id": "875013e0-2cd1-42e0-8cd3-293e17b85261",
   "metadata": {},
   "outputs": [
    {
     "data": {
      "text/plain": [
       "'ABCDEFGHIJKLMNOPQRSTUVWXYZ'"
      ]
     },
     "execution_count": 10,
     "metadata": {},
     "output_type": "execute_result"
    }
   ],
   "source": [
    "''.join(sorted(list(real_key)))"
   ]
  },
  {
   "cell_type": "markdown",
   "id": "4b6058b4-ad91-446c-8310-dfad4b0694b9",
   "metadata": {},
   "source": [
    "## Optimización"
   ]
  },
  {
   "cell_type": "code",
   "execution_count": 34,
   "id": "375e7949-360c-4c79-bcc9-e08e098abdec",
   "metadata": {},
   "outputs": [
    {
     "name": "stdout",
     "output_type": "stream",
     "text": [
      "Estado de la cadena luego de 10 pasos con beta = 1: UQFXRAPLWYKBGDHJCMISNTZEVO\n",
      "Indices intercambiados: [0, 1, 2, 3, 4, 5, 6, 7, 8, 9, 11, 12, 13, 14, 15, 16, 17, 18, 19, 20, 21, 22, 23, 24, 25]\n"
     ]
    }
   ],
   "source": [
    "def SADecipher(ciphertext: str, Niter: int, beta,\n",
    "               initial_key = random.sample(alphabet[1:], len(alphabet) - 1),\n",
    "               print_period = None):\n",
    "    '''\n",
    "    Función que implementa Simmulated Annealing \n",
    "    para el problema de descifrado\n",
    "    \n",
    "    Argumentos:\n",
    "        ciphertext: Código a descifrar\n",
    "        Niter: Número de pasos a realizar\n",
    "        beta (fun): Función que representa el beta del método de SA\n",
    "        initial_key (str): una clave inicial para el algoritmo\n",
    "        print_period: Representa el periodo de actualización. \n",
    "            Si no es None, se imprime el estado de la cadena\n",
    "            y la plausibilidad cada print_period pasos\n",
    "    \n",
    "    Retorna:\n",
    "        key: Estado de la cadena luego de Niter pasos\n",
    "    '''\n",
    "    \n",
    "    U = np.random.uniform(0, 1, size = Niter)\n",
    "    key = initial_key\n",
    "    incumbent_plaus = plausibility(ciphertext, key)\n",
    "    scores = np.zeros(Niter)\n",
    "    if print_period == None:\n",
    "        for i in range(Niter):\n",
    "            scores[i] = incumbent_plaus\n",
    "            new_key = neighbor(key)\n",
    "            new_plaus = plausibility(ciphertext, new_key)\n",
    "            if U[i] <= np.exp(beta(i) * (new_plaus - incumbent_plaus)):\n",
    "                key = new_key\n",
    "                incumbent_plaus = new_plaus\n",
    "    else:\n",
    "        for i in range(Niter):\n",
    "            scores[i] = incumbent_plaus\n",
    "            new_key = neighbor(key)\n",
    "            new_plaus = plausibility(ciphertext, new_key)\n",
    "            if U[i] <= np.exp(beta(i) * (new_plaus - incumbent_plaus)):\n",
    "                key = new_key\n",
    "                incumbent_plaus = new_plaus\n",
    "            if i % print_period == 0:\n",
    "                cipher = SimpleSubstitution(key)\n",
    "                print(f\"Paso {i}\")\n",
    "                print(f\"Frase actual: {cipher.decipher(ciphertext, keep_punct = True)}\")\n",
    "                print(f\"Plausibilidad: {incumbent_plaus}\")\n",
    "    return key, scores\n",
    "\n",
    "# Test de SADecipher\n",
    "beta = lambda x: 1     \n",
    "sample_advance, sample_scores = SADecipher(ciphertext, 10, beta)\n",
    "print(f\"Estado de la cadena luego de 10 pasos con beta = 1: {sample_advance}\")\n",
    "print(f\"Indices intercambiados: {[i for i in range(len(example_key)) if 'ABCDEFGHIJKLMNOPQRSTUVWXYZ'[i] != sample_advance[i]]}\")"
   ]
  },
  {
   "cell_type": "code",
   "execution_count": 12,
   "id": "c0631820-0b96-43d0-bd0b-8b14cbfbbff2",
   "metadata": {},
   "outputs": [
    {
     "data": {
      "image/png": "[encoded data removed]",
      "text/plain": [
       "<Figure size 432x288 with 1 Axes>"
      ]
     },
     "metadata": {
      "needs_background": "light"
     },
     "output_type": "display_data"
    }
   ],
   "source": [
    "def graph_scores(scores, Niter, title):\n",
    "    plt.figure()\n",
    "    plt.plot(np.arange(Niter) + 1, scores)\n",
    "    plt.title(title)\n",
    "    plt.xlabel(\"Pasos\")\n",
    "    plt.ylabel(\"Plausibilidad\")\n",
    "    plt.show()\n",
    "    return \n",
    "\n",
    "graph_scores(sample_scores, 10, \"Plausibilidad en diez pasos de la cadena\")"
   ]
  },
  {
   "cell_type": "code",
   "execution_count": 62,
   "id": "80ca6bd4-487e-4153-8cbb-d0c1e87139fa",
   "metadata": {},
   "outputs": [
    {
     "name": "stdout",
     "output_type": "stream",
     "text": [
      "Paso 0\n",
      "Frase actual: OHPNYE ATYE CZEUHZE WGZTLZ AK UZKYLYT CZ WHEFKAOFZTLY ZK PYGYTZK AHGZKFATY JHZTCFA GZPYGCY AQHZKKA LAGCZ GZOYLA ZT QHZ EH UACGZ KY KKZXY A PYTYPZG ZK NFZKY\n",
      "Plausibilidad: 35.66793662482362\n",
      "Paso 1000\n",
      "Frase actual: FKVWNC QUNC ODCXKDC MHDULD QY XDYNLNU OD MKCIYQFIDULN DY VNHNUDY QKHDYIQUN JKDUOIQ HDVNHON QEKDYYQ LQHOD HDFNLQ DU EKD CK XQOHD YN YYDTN Q VNUNVDH DY WIDYN\n",
      "Plausibilidad: 33.77144844060628\n",
      "Paso 2000\n",
      "Frase actual: QIMHAK LRAK EOKVIOK DCORTO LY VOYATAR EO DIKGYLQGORTA OY MACAROY LICOYGLRA BIOREGL COMACEA LXIOYYL TLCEO COQATL OR XIO KI VLECO YA YYOUA L MARAMOC OY HGOYA\n",
      "Plausibilidad: 42.46537476734463\n",
      "Paso 3000\n",
      "Frase actual: JUHPAN YRAN VENXUEN GDERLE YS XESALAR VE GUNOSYJOERLA ES HADARES YUDESOYRA CUERVOY DEHADVA YQUESSY LYDVE DEJALY ER QUE NU XYVDE SA SSEMA Y HARAHED ES POESA\n",
      "Plausibilidad: 46.790203613021625\n",
      "Paso 4000\n",
      "Frase actual: LUMHAK OSAK TEKPUEK FDESZE OY PEYAZAS TE FUKIYOLIESZA EY MADASEY OUDEYIOSA CUESTIO DEMADTA OQUEYYO ZODTE DELAZO ES QUE KU POTDE YA YYEVA O MASAMED EY HIEYA\n",
      "Plausibilidad: 47.10571781916229\n",
      "Paso 5000\n",
      "Frase actual: CUHMOY ANOY GEYFUEY BDENJE AS FESOJON GE BUYISACIENJO ES HODONES AUDESIANO LUENGIA DEHODGO AQUESSA JADGE DECOJA EN QUE YU FAGDE SO SSERO A HONOHED ES MIESO\n",
      "Plausibilidad: 46.80845277748448\n",
      "Paso 6000\n",
      "Frase actual: JUDMOS ANOS IESFUES XRENTE AY FEYOTON IE XUSHYAJHENTO EY DORONEY AUREYHANO CUENIHA REDORIO AQUEYYA TARIE REJOTA EN QUE SU FAIRE YO YYEWO A DONODER EY MHEYO\n",
      "Plausibilidad: 46.53668808436415\n",
      "Paso 7000\n",
      "Frase actual: ZUYCOS ANOS WESBUES PDENHE AL BELOHON WE PUSTLAZTENHO EL YODONEL AUDELTANO JUENWTA DEYODWO AQUELLA HADWE DEZOHA EN QUE SU BAWDE LO LLEGO A YONOYED EL CTELO\n",
      "Plausibilidad: 46.453978463711\n",
      "Paso 8000\n",
      "Frase actual: ZUYHOK ANOK DEKWUEK GVENLE AS WESOLON DE GUKISAZIENLO ES YOVONES AUVESIANO PUENDIA VEYOVDO AQUESSA LAVDE VEZOLA EN QUE KU WADVE SO SSECO A YONOYEV ES HIESO\n",
      "Plausibilidad: 46.74157418346607\n",
      "Paso 9000\n",
      "Frase actual: GUPTOK ANOK VEKLUEK CDENHE AS LESOHON VE CUKISAGIENHO ES PODONES AUDESIANO FUENVIA DEPODVO AQUESSA HADVE DEGOHA EN QUE KU LAVDE SO SSEJO A PONOPED ES TIESO\n",
      "Plausibilidad: 48.14422985560091\n",
      "Estado de la cadena luego de 10 pasos con beta lineal: APCOEFNGTJKLMHBDIRSQUVWZYX\n",
      "Indices intercambiados: [1, 3, 6, 7, 8, 13, 14, 15, 16, 19, 23, 25]\n"
     ]
    },
    {
     "data": {
      "image/png": "[encoded data removed]",
      "text/plain": [
       "<Figure size 432x288 with 1 Axes>"
      ]
     },
     "metadata": {
      "needs_background": "light"
     },
     "output_type": "display_data"
    }
   ],
   "source": [
    "beta = lambda x: 10**(-3) * x\n",
    "Niter = 10000\n",
    "beta_lineal, scores_lineal = SADecipher(ciphertext, Niter, beta, print_period = 1000)\n",
    "print(f\"Estado de la cadena luego de 10 pasos con beta lineal: {sample_advance}\")\n",
    "print(f\"Indices intercambiados: {[i for i in range(len(example_key)) if 'ABCDEFGHIJKLMNOPQRSTUVWXYZ'[i] != sample_advance[i]]}\")\n",
    "graph_scores(scores_lineal, Niter, \"Plausibilidad de la cadena con beta lineal\")"
   ]
  },
  {
   "cell_type": "code",
   "execution_count": 76,
   "id": "a45d40bc-b81f-4f94-ad76-0cf270e0c867",
   "metadata": {},
   "outputs": [
    {
     "name": "stdout",
     "output_type": "stream",
     "text": [
      "Paso 0\n",
      "Frase actual: OHPLYE ATYE CZEUHZE XGZTNZ AK UZKYNYT CZ XHEFKAOFZTNY ZK PYGYTZK AHGZKFATY JHZTCFA GZPYGCY AQHZKKA NAGCZ GZOYNA ZT QHZ EH UACGZ KY KKZWY A PYTYPZG ZK LFZKY\n",
      "Plausibilidad: 35.37616047725922\n",
      "Paso 1000\n",
      "Frase actual: FOQACN LVCN ZGNIOGN TXGVJG LW IGWCJCV ZG TONBWLFBGVJC GW QCXCVGW LOXGWBLVC UOGVZBL XGQCXZC LHOGWWL JLXZG XGFCJL GV HOG NO ILZXG WC WWGRC L QCVCQGX GW ABGWC\n",
      "Plausibilidad: 29.886776210638025\n",
      "Paso 2000\n",
      "Frase actual: WVAIBS TRBS NYSPVYS OKYRLY TU PYUBLBR NY OVSFUTWFYRLB YU ABKBRYU TVKYUFTRB ZVYRNFT KYABKNB TMVYUUT LTKNY KYWBLT YR MVY SV PTNKY UB UUYGB T ABRBAYK YU IFYUB\n",
      "Plausibilidad: 32.5529743994809\n",
      "Paso 3000\n",
      "Frase actual: PIHBAY XOAY TEYLIEY FVEOZE XS LESAZAO TE FIYDSXPDEOZA ES HAVAOES XIVESDXOA RIEOTDX VEHAVTA XGIESSX ZXVTE VEPAZX EO GIE YI LXTVE SA SSEMA X HAOAHEV ES BDESA\n",
      "Plausibilidad: 41.343528916747545\n",
      "Paso 4000\n",
      "Frase actual: BTDUIE YRIE POECTOE FVORGO YA COAIGIR PO FTESAYBSORGI OA DIVIROA YTVOASYRI MTORPSY VODIVPI YXTOAAY GYVPO VOBIGY OR XTO ET CYPVO AI AAOKI Y DIRIDOV OA USOAI\n",
      "Plausibilidad: 38.79928608289779\n",
      "Paso 5000\n",
      "Frase actual: NRVBAY OSAY XEYCREY FUESDE OL CELADAS XE FRYTLONTESDA EL VAUASEL ORUELTOSA KRESXTO UEVAUXA OZRELLO DOUXE UENADO ES ZRE YR COXUE LA LLEHA O VASAVEU EL BTELA\n",
      "Plausibilidad: 43.74573759544071\n",
      "Paso 6000\n",
      "Frase actual: CWDIOY ANOY JEYPWEY GUENTE AL PELOTON JE GWYSLACSENTO EL DOUONEL AWUELSANO BWENJSA UEDOUJO AZWELLA TAUJE UECOTA EN ZWE YW PAJUE LO LLEFO A DONODEU EL ISELO\n",
      "Plausibilidad: 44.25384958779929\n",
      "Paso 7000\n",
      "Frase actual: RUCNOK ASOK PEKHUEK VDESJE AL HELOJOS PE VUKTLARTESJO EL CODOSEL AUDELTASO FUESPTA DECODPO AQUELLA JADPE DEROJA ES QUE KU HAPDE LO LLEGO A COSOCED EL NTELO\n",
      "Plausibilidad: 47.16550344981187\n",
      "Paso 8000\n",
      "Frase actual: PUCGOK AROK TEKHUEK YDERJE AL HELOJOR TE YUKILAPIERJO EL CODOREL AUDELIARO FUERTIA DECODTO AQUELLA JADTE DEPOJA ER QUE KU HATDE LO LLEVO A COROCED EL GIELO\n",
      "Plausibilidad: 46.78475606359191\n",
      "Paso 9000\n",
      "Frase actual: BUJGOY AKOY IEYLUEY MDEKHE AS LESOHOK IE MUYTSABTEKHO ES JODOKES AUDESTAKO FUEKITA DEJODIO AQUESSA HADIE DEBOHA EK QUE YU LAIDE SO SSENO A JOKOJED ES GTESO\n",
      "Plausibilidad: 46.59762647736522\n",
      "Estado de la cadena luego de 10 pasos con beta lineal: APCOEFNGTJKLMHBDIRSQUVWZYX\n",
      "Indices intercambiados: [1, 3, 6, 7, 8, 13, 14, 15, 16, 19, 23, 25]\n"
     ]
    },
    {
     "data": {
      "image/png": "[encoded data removed]",
      "text/plain": [
       "<Figure size 432x288 with 1 Axes>"
      ]
     },
     "metadata": {
      "needs_background": "light"
     },
     "output_type": "display_data"
    }
   ],
   "source": [
    "beta = lambda x: 10**(-7) * x ** 2\n",
    "Niter = 50000\n",
    "beta_quad, scores_quad = SADecipher(ciphertext, Niter, beta, print_period = 1000)\n",
    "print(f\"Estado de la cadena luego de 10 pasos con beta lineal: {sample_advance}\")\n",
    "print(f\"Indices intercambiados: {[i for i in range(len(example_key)) if 'ABCDEFGHIJKLMNOPQRSTUVWXYZ'[i] != sample_advance[i]]}\")\n",
    "graph_scores(scores_quad, Niter, \"Plausibilidad de la cadena con beta cuadrático\")"
   ]
  },
  {
   "cell_type": "markdown",
   "id": "3bcda40b-41d0-4143-847f-c0a1f5177469",
   "metadata": {},
   "source": [
    "### Test con un texto más largo: Entrada de Roberto Bolaño en Wikipedia"
   ]
  },
  {
   "cell_type": "code",
   "execution_count": 25,
   "id": "4f83807c-1d37-4fbb-b83d-b9bdb9cd740b",
   "metadata": {},
   "outputs": [
    {
     "name": "stdout",
     "output_type": "stream",
     "text": [
      "ROBERTO BOLANO AVALOS SANTIAGO DE CHILE VEINTIOCHO DE ABRIL DE MIL NOVECIENTOS CINCUENTA Y TRES  BARCELONA QUINCE DE JULIO DE DOS MIL TRES FUE UN ESCRITOR Y POETA CHILENO AUTOR DE MAS DE DOS DECENAS DE LIBROS ENTRE LOS CUALES DESTACAN SUS NOVELAS LOS DETECTIVES SALVAJES GANADORA DEL PREMIO HERRALDE EN MIL NOVECIENTOS NOVENTA Y OCHO Y EL PREMIO ROMULO GALLEGOS EN MIL NOVECIENTOS NOVENTA Y NUEVE Y LA POSTUMA DOS MIL SEISCIENTOS SESENTA Y SEIS  DESPUES DE SU MUERTE SE HA CONVERTIDO EN UNO DE LOS ESCRITORES MAS INFLUYENTES EN LENGUA ESPANOLA COMO LO DEMUESTRAN LAS NUMEROSAS PUBLICACIONES CONSAGRADAS A SU OBRA Y EL HECHO DE QUE TRES NOVELAS ADEMAS DE LAS YA CITADAS LOS DETECTIVES SALVAJES Y DOS MIL SEISCIENTOS SESENTA Y SEIS LA BREVE ESTRELLA DISTANTE FIGUREN EN LOS QUINCE PRIMEROS LUGARES DE LA LISTA CONFECCIONADA EN DOS MIL SIETE POR OCHENTA Y UN ESCRITORES Y CRITICOS LATINOAMERICANOS Y ESPANOLES CON LOS MEJORES CIEN LIBROS EN LENGUA CASTELLANA DE LOS ULTIMOS VEINTICINCO ANOS  SU OBRA HA SIDO TRADUCIDA A NUMEROSOS IDIOMAS ENTRE ELLOS INGLES FRANCES ALEMAN ITALIANO LITUANO Y NEERLANDES AL MOMENTO DE SU MUERTE TENIA TREINTA Y SIETE CONTRATOS DE PUBLICACION EN DIEZ PAISES POSTUMAMENTE LA LISTA CRECIO PARA INCLUIR MAS PAISES ENTRE ELLOS ESTADOS UNIDOS Y ASCENDIO A CINCUENTA CONTRATOS Y CUARENTA Y NUEVE TRADUCCIONES EN DOCE PAISES TODOS ELLOS PREVIOS A LA PUBLICACION DE DOS MIL SEISCIENTOS SESENTA Y SEIS SU NOVELA MAS AMBICIOSA ADEMAS EL AUTOR GOZA DE EXCELENTES CRITICAS TANTO DE ESCRITORES COMO DE CRITICOS LITERARIOS CONTEMPORANEOS Y SE LE CONSIDERA UNO DE LOS GRANDES AUTORES HISPANOAMERICANOS DEL SIGLO VEINTE JUNTO CON OTROS ESCRITORES DE LA TALLA DE JORGE LUIS BORGES PABLO NERUDA Y JULIO CORTAZAR CON QUIEN SUELE SER COMPARADO\n",
      "Cantidad de caracteres: 1750\n"
     ]
    }
   ],
   "source": [
    "def read_text(filepath: str):\n",
    "    '''\n",
    "    Lee y limpia un archivo de texto\n",
    "    '''\n",
    "    with open(\"bolano_wikipedia.txt\", 'r') as f:\n",
    "        text = f.readlines()\n",
    "    for i in range(len(text)):\n",
    "        text[i] = text[i].replace('\\n', '')\n",
    "    \n",
    "    text = ' '.join(text)\n",
    "    # Sólo minúsculas\n",
    "    clean_text = text.casefold()\n",
    "\n",
    "    # Eliminar tildes\n",
    "    tilde_dict = {'á':'a', 'é': 'e', 'í': 'i', 'ó':'o', 'ú':'u', 'ñ': 'n'}\n",
    "    for key, value in tilde_dict.items():\n",
    "        clean_text = clean_text.replace(key, value)\n",
    "\n",
    "    # Eliminar caracteres especiales\n",
    "    clean_text = re.sub(r\"[^a-zA-Z ]\", \"\", clean_text)\n",
    "    clean_text = clean_text.upper()\n",
    "    return clean_text\n",
    "\n",
    "test_text = read_text(\"bolano_wikipedia.txt\")\n",
    "print(test_text)\n",
    "print(f\"Cantidad de caracteres: {len(test_text)}\")"
   ]
  },
  {
   "cell_type": "code",
   "execution_count": 28,
   "id": "7a48409e-5309-49f0-b3b4-8ec2acc558f9",
   "metadata": {},
   "outputs": [
    {
     "name": "stdout",
     "output_type": "stream",
     "text": [
      "Clave : VTBCWKLIJPHAFUZQOMXGSNDERY\n",
      "MZTWMGZ TZAVUZ VNVAZX XVUGJVLZ CW BIJAW NWJUGJZBIZ CW VTMJA CW FJA UZNWBJWUGZX BJUBSWUGV R GMWX  TVMBWAZUV OSJUBW CW PSAJZ CW CZX FJA GMWX KSW SU WXBMJGZM R QZWGV BIJAWUZ VSGZM CW FVX CW CZX CWBWUVX CW AJTMZX WUGMW AZX BSVAWX CWXGVBVU XSX UZNWAVX AZX CWGWBGJNWX XVANVPWX LVUVCZMV CWA QMWFJZ IWMMVACW WU FJA UZNWBJWUGZX UZNWUGV R ZBIZ R WA QMWFJZ MZFSAZ LVAAWLZX WU FJA UZNWBJWUGZX UZNWUGV R USWNW R AV QZXGSFV CZX FJA XWJXBJWUGZX XWXWUGV R XWJX  CWXQSWX CW XS FSWMGW XW IV BZUNWMGJCZ WU SUZ CW AZX WXBMJGZMWX FVX JUKASRWUGWX WU AWULSV WXQVUZAV BZFZ AZ CWFSWXGMVU AVX USFWMZXVX QSTAJBVBJZUWX BZUXVLMVCVX V XS ZTMV R WA IWBIZ CW OSW GMWX UZNWAVX VCWFVX CW AVX RV BJGVCVX AZX CWGWBGJNWX XVANVPWX R CZX FJA XWJXBJWUGZX XWXWUGV R XWJX AV TMWNW WXGMWAAV CJXGVUGW KJLSMWU WU AZX OSJUBW QMJFWMZX ASLVMWX CW AV AJXGV BZUKWBBJZUVCV WU CZX FJA XJWGW QZM ZBIWUGV R SU WXBMJGZMWX R BMJGJBZX AVGJUZVFWMJBVUZX R WXQVUZAWX BZU AZX FWPZMWX BJWU AJTMZX WU AWULSV BVXGWAAVUV CW AZX SAGJFZX NWJUGJBJUBZ VUZX  XS ZTMV IV XJCZ GMVCSBJCV V USFWMZXZX JCJZFVX WUGMW WAAZX JULAWX KMVUBWX VAWFVU JGVAJVUZ AJGSVUZ R UWWMAVUCWX VA FZFWUGZ CW XS FSWMGW GWUJV GMWJUGV R XJWGW BZUGMVGZX CW QSTAJBVBJZU WU CJWY QVJXWX QZXGSFVFWUGW AV AJXGV BMWBJZ QVMV JUBASJM FVX QVJXWX WUGMW WAAZX WXGVCZX SUJCZX R VXBWUCJZ V BJUBSWUGV BZUGMVGZX R BSVMWUGV R USWNW GMVCSBBJZUWX WU CZBW QVJXWX GZCZX WAAZX QMWNJZX V AV QSTAJBVBJZU CW CZX FJA XWJXBJWUGZX XWXWUGV R XWJX XS UZNWAV FVX VFTJBJZXV VCWFVX WA VSGZM LZYV CW WEBWAWUGWX BMJGJBVX GVUGZ CW WXBMJGZMWX BZFZ CW BMJGJBZX AJGWMVMJZX BZUGWFQZMVUWZX R XW AW BZUXJCWMV SUZ CW AZX LMVUCWX VSGZMWX IJXQVUZVFWMJBVUZX CWA XJLAZ NWJUGW PSUGZ BZU ZGMZX WXBMJGZMWX CW AV GVAAV CW PZMLW ASJX TZMLWX QVTAZ UWMSCV R PSAJZ BZMGVYVM BZU OSJWU XSWAW XWM BZFQVMVCZ\n"
     ]
    }
   ],
   "source": [
    "# Generación de una clave aleatoria\n",
    "real_key = ''.join(random.sample(alphabet[1:], len(alphabet) - 1)) # El primer caracter es un espacio\n",
    "print(f\"Clave : {real_key}\")\n",
    "real_cipher = SimpleSubstitution(real_key)\n",
    "ciphertext = real_cipher.encipher(test_text, keep_punct = True)\n",
    "print(ciphertext)"
   ]
  },
  {
   "cell_type": "code",
   "execution_count": 38,
   "id": "1e3b4c5c-c066-419b-9c8b-af9b190bd2a3",
   "metadata": {},
   "outputs": [
    {
     "name": "stdout",
     "output_type": "stream",
     "text": [
      "Paso 0\n",
      "Frase actual: LFGILMF GFWYTF YUYWFD DYTMPYRF QI HSPWI UIPTMPFHSF QI YGLPW QI CPW TFUIHPITMFD HPTHJITMY E MLID  GYLHIWFTY ZJPTHI QI VJWPF QI QFD CPW MLID KJI JT IDHLPMFL E NFIMY HSPWITF YJMFL QI CYD QI QFD QIHITYD QI WPGLFD ITMLI WFD HJYWID QIDMYHYT DJD TFUIWYD WFD QIMIHMPUID DYWUYVID RYTYQFLY QIW NLICPF SILLYWQI IT CPW TFUIHPITMFD TFUITMY E FHSF E IW NLICPF LFCJWF RYWWIRFD IT CPW TFUIHPITMFD TFUITMY E TJIUI E WY NFDMJCY QFD CPW DIPDHPITMFD DIDITMY E DIPD  QIDNJID QI DJ CJILMI DI SY HFTUILMPQF IT JTF QI WFD IDHLPMFLID CYD PTKWJEITMID IT WITRJY IDNYTFWY HFCF WF QICJIDMLYT WYD TJCILFDYD NJGWPHYHPFTID HFTDYRLYQYD Y DJ FGLY E IW SIHSF QI ZJI MLID TFUIWYD YQICYD QI WYD EY HPMYQYD WFD QIMIHMPUID DYWUYVID E QFD CPW DIPDHPITMFD DIDITMY E DIPD WY GLIUI IDMLIWWY QPDMYTMI KPRJLIT IT WFD ZJPTHI NLPCILFD WJRYLID QI WY WPDMY HFTKIHHPFTYQY IT QFD CPW DPIMI NFL FHSITMY E JT IDHLPMFLID E HLPMPHFD WYMPTFYCILPHYTFD E IDNYTFWID HFT WFD CIVFLID HPIT WPGLFD IT WITRJY HYDMIWWYTY QI WFD JWMPCFD UIPTMPHPTHF YTFD  DJ FGLY SY DPQF MLYQJHPQY Y TJCILFDFD PQPFCYD ITMLI IWWFD PTRWID KLYTHID YWICYT PMYWPYTF WPMJYTF E TIILWYTQID YW CFCITMF QI DJ CJILMI MITPY MLIPTMY E DPIMI HFTMLYMFD QI NJGWPHYHPFT IT QPIA NYPDID NFDMJCYCITMI WY WPDMY HLIHPF NYLY PTHWJPL CYD NYPDID ITMLI IWWFD IDMYQFD JTPQFD E YDHITQPF Y HPTHJITMY HFTMLYMFD E HJYLITMY E TJIUI MLYQJHHPFTID IT QFHI NYPDID MFQFD IWWFD NLIUPFD Y WY NJGWPHYHPFT QI QFD CPW DIPDHPITMFD DIDITMY E DIPD DJ TFUIWY CYD YCGPHPFDY YQICYD IW YJMFL RFAY QI IXHIWITMID HLPMPHYD MYTMF QI IDHLPMFLID HFCF QI HLPMPHFD WPMILYLPFD HFTMICNFLYTIFD E DI WI HFTDPQILY JTF QI WFD RLYTQID YJMFLID SPDNYTFYCILPHYTFD QIW DPRWF UIPTMI VJTMF HFT FMLFD IDHLPMFLID QI WY MYWWY QI VFLRI WJPD GFLRID NYGWF TILJQY E VJWPF HFLMYAYL HFT ZJPIT DJIWI DIL HFCNYLYQF\n",
      "Plausibilidad: 106.58717830731781\n",
      "Paso 1000\n",
      "Frase actual: TIPOTMI PIWKXI KBKWIY YKXMRKGI EO DURWO BORXMRIDUI EO KPTRW EO ZRW XIBODROXMIY DRXDJOXMK A MTOY  PKTDOWIXK QJRXDO EO CJWRI EO EIY ZRW MTOY FJO JX OYDTRMIT A HIOMK DURWOXI KJMIT EO ZKY EO EIY EODOXKY EO WRPTIY OXMTO WIY DJKWOY EOYMKDKX YJY XIBOWKY WIY EOMODMRBOY YKWBKCOY GKXKEITK EOW HTOZRI UOTTKWEO OX ZRW XIBODROXMIY XIBOXMK A IDUI A OW HTOZRI TIZJWI GKWWOGIY OX ZRW XIBODROXMIY XIBOXMK A XJOBO A WK HIYMJZK EIY ZRW YORYDROXMIY YOYOXMK A YORY  EOYHJOY EO YJ ZJOTMO YO UK DIXBOTMREI OX JXI EO WIY OYDTRMITOY ZKY RXFWJAOXMOY OX WOXGJK OYHKXIWK DIZI WI EOZJOYMTKX WKY XJZOTIYKY HJPWRDKDRIXOY DIXYKGTKEKY K YJ IPTK A OW UODUI EO QJO MTOY XIBOWKY KEOZKY EO WKY AK DRMKEKY WIY EOMODMRBOY YKWBKCOY A EIY ZRW YORYDROXMIY YOYOXMK A YORY WK PTOBO OYMTOWWK ERYMKXMO FRGJTOX OX WIY QJRXDO HTRZOTIY WJGKTOY EO WK WRYMK DIXFODDRIXKEK OX EIY ZRW YROMO HIT IDUOXMK A JX OYDTRMITOY A DTRMRDIY WKMRXIKZOTRDKXIY A OYHKXIWOY DIX WIY ZOCITOY DROX WRPTIY OX WOXGJK DKYMOWWKXK EO WIY JWMRZIY BORXMRDRXDI KXIY  YJ IPTK UK YREI MTKEJDREK K XJZOTIYIY RERIZKY OXMTO OWWIY RXGWOY FTKXDOY KWOZKX RMKWRKXI WRMJKXI A XOOTWKXEOY KW ZIZOXMI EO YJ ZJOTMO MOXRK MTORXMK A YROMO DIXMTKMIY EO HJPWRDKDRIX OX EROV HKRYOY HIYMJZKZOXMO WK WRYMK DTODRI HKTK RXDWJRT ZKY HKRYOY OXMTO OWWIY OYMKEIY JXREIY A KYDOXERI K DRXDJOXMK DIXMTKMIY A DJKTOXMK A XJOBO MTKEJDDRIXOY OX EIDO HKRYOY MIEIY OWWIY HTOBRIY K WK HJPWRDKDRIX EO EIY ZRW YORYDROXMIY YOYOXMK A YORY YJ XIBOWK ZKY KZPRDRIYK KEOZKY OW KJMIT GIVK EO OSDOWOXMOY DTRMRDKY MKXMI EO OYDTRMITOY DIZI EO DTRMRDIY WRMOTKTRIY DIXMOZHITKXOIY A YO WO DIXYREOTK JXI EO WIY GTKXEOY KJMITOY URYHKXIKZOTRDKXIY EOW YRGWI BORXMO CJXMI DIX IMTIY OYDTRMITOY EO WK MKWWK EO CITGO WJRY PITGOY HKPWI XOTJEK A CJWRI DITMKVKT DIX QJROX YJOWO YOT DIZHKTKEI\n",
      "Plausibilidad: 191.10195022760422\n",
      "Paso 2000\n",
      "Frase actual: ZIROZHI RIUEKI EVEUIY YEKHAEJI PO MWAUO VOAKHAIMWI PO ERZAU PO CAU KIVOMAOKHIY MAKMLOKHE B HZOY  REZMOUIKE SLAKMO PO NLUAI PO PIY CAU HZOY GLO LK OYMZAHIZ B XIOHE MWAUOKI ELHIZ PO CEY PO PIY POMOKEY PO UARZIY OKHZO UIY MLEUOY POYHEMEK YLY KIVOUEY UIY POHOMHAVOY YEUVENOY JEKEPIZE POU XZOCAI WOZZEUPO OK CAU KIVOMAOKHIY KIVOKHE B IMWI B OU XZOCAI ZICLUI JEUUOJIY OK CAU KIVOMAOKHIY KIVOKHE B KLOVO B UE XIYHLCE PIY CAU YOAYMAOKHIY YOYOKHE B YOAY  POYXLOY PO YL CLOZHO YO WE MIKVOZHAPI OK LKI PO UIY OYMZAHIZOY CEY AKGULBOKHOY OK UOKJLE OYXEKIUE MICI UI POCLOYHZEK UEY KLCOZIYEY XLRUAMEMAIKOY MIKYEJZEPEY E YL IRZE B OU WOMWI PO SLO HZOY KIVOUEY EPOCEY PO UEY BE MAHEPEY UIY POHOMHAVOY YEUVENOY B PIY CAU YOAYMAOKHIY YOYOKHE B YOAY UE RZOVO OYHZOUUE PAYHEKHO GAJLZOK OK UIY SLAKMO XZACOZIY ULJEZOY PO UE UAYHE MIKGOMMAIKEPE OK PIY CAU YAOHO XIZ IMWOKHE B LK OYMZAHIZOY B MZAHAMIY UEHAKIECOZAMEKIY B OYXEKIUOY MIK UIY CONIZOY MAOK UARZIY OK UOKJLE MEYHOUUEKE PO UIY LUHACIY VOAKHAMAKMI EKIY  YL IRZE WE YAPI HZEPLMAPE E KLCOZIYIY APAICEY OKHZO OUUIY AKJUOY GZEKMOY EUOCEK AHEUAEKI UAHLEKI B KOOZUEKPOY EU CICOKHI PO YL CLOZHO HOKAE HZOAKHE B YAOHO MIKHZEHIY PO XLRUAMEMAIK OK PAOF XEAYOY XIYHLCECOKHO UE UAYHE MZOMAI XEZE AKMULAZ CEY XEAYOY OKHZO OUUIY OYHEPIY LKAPIY B EYMOKPAI E MAKMLOKHE MIKHZEHIY B MLEZOKHE B KLOVO HZEPLMMAIKOY OK PIMO XEAYOY HIPIY OUUIY XZOVAIY E UE XLRUAMEMAIK PO PIY CAU YOAYMAOKHIY YOYOKHE B YOAY YL KIVOUE CEY ECRAMAIYE EPOCEY OU ELHIZ JIFE PO ODMOUOKHOY MZAHAMEY HEKHI PO OYMZAHIZOY MICI PO MZAHAMIY UAHOZEZAIY MIKHOCXIZEKOIY B YO UO MIKYAPOZE LKI PO UIY JZEKPOY ELHIZOY WAYXEKIECOZAMEKIY POU YAJUI VOAKHO NLKHI MIK IHZIY OYMZAHIZOY PO UE HEUUE PO NIZJO ULAY RIZJOY XERUI KOZLPE B NLUAI MIZHEFEZ MIK SLAOK YLOUO YOZ MICXEZEPI\n",
      "Plausibilidad: 214.70250978485927\n",
      "Paso 3000\n",
      "Frase actual: HEJOHPE JEFASE AZAFEY YASPUAIE TO QCUFO ZOUSPUEQCE TO AJHUF TO RUF SEZOQUOSPEY QUSQLOSPA K PHOY  JAHQOFESA BLUSQO TO GLFUE TO TEY RUF PHOY WLO LS OYQHUPEH K DEOPA QCUFOSE ALPEH TO RAY TO TEY TOQOSAY TO FUJHEY OSPHO FEY QLAFOY TOYPAQAS YLY SEZOFAY FEY TOPOQPUZOY YAFZAGOY IASATEHA TOF DHORUE COHHAFTO OS RUF SEZOQUOSPEY SEZOSPA K EQCE K OF DHORUE HERLFE IAFFOIEY OS RUF SEZOQUOSPEY SEZOSPA K SLOZO K FA DEYPLRA TEY RUF YOUYQUOSPEY YOYOSPA K YOUY  TOYDLOY TO YL RLOHPO YO CA QESZOHPUTE OS LSE TO FEY OYQHUPEHOY RAY USWFLKOSPOY OS FOSILA OYDASEFA QERE FE TORLOYPHAS FAY SLROHEYAY DLJFUQAQUESOY QESYAIHATAY A YL EJHA K OF COQCE TO BLO PHOY SEZOFAY ATORAY TO FAY KA QUPATAY FEY TOPOQPUZOY YAFZAGOY K TEY RUF YOUYQUOSPEY YOYOSPA K YOUY FA JHOZO OYPHOFFA TUYPASPO WUILHOS OS FEY BLUSQO DHUROHEY FLIAHOY TO FA FUYPA QESWOQQUESATA OS TEY RUF YUOPO DEH EQCOSPA K LS OYQHUPEHOY K QHUPUQEY FAPUSEAROHUQASEY K OYDASEFOY QES FEY ROGEHOY QUOS FUJHEY OS FOSILA QAYPOFFASA TO FEY LFPUREY ZOUSPUQUSQE ASEY  YL EJHA CA YUTE PHATLQUTA A SLROHEYEY UTUERAY OSPHO OFFEY USIFOY WHASQOY AFORAS UPAFUASE FUPLASE K SOOHFASTOY AF REROSPE TO YL RLOHPO POSUA PHOUSPA K YUOPO QESPHAPEY TO DLJFUQAQUES OS TUON DAUYOY DEYPLRAROSPO FA FUYPA QHOQUE DAHA USQFLUH RAY DAUYOY OSPHO OFFEY OYPATEY LSUTEY K AYQOSTUE A QUSQLOSPA QESPHAPEY K QLAHOSPA K SLOZO PHATLQQUESOY OS TEQO DAUYOY PETEY OFFEY DHOZUEY A FA DLJFUQAQUES TO TEY RUF YOUYQUOSPEY YOYOSPA K YOUY YL SEZOFA RAY ARJUQUEYA ATORAY OF ALPEH IENA TO OVQOFOSPOY QHUPUQAY PASPE TO OYQHUPEHOY QERE TO QHUPUQEY FUPOHAHUEY QESPORDEHASOEY K YO FO QESYUTOHA LSE TO FEY IHASTOY ALPEHOY CUYDASEAROHUQASEY TOF YUIFE ZOUSPO GLSPE QES EPHEY OYQHUPEHOY TO FA PAFFA TO GEHIO FLUY JEHIOY DAJFE SOHLTA K GLFUE QEHPANAH QES BLUOS YLOFO YOH QERDAHATE\n",
      "Plausibilidad: 254.57876437619655\n",
      "Paso 4000\n",
      "Frase actual: RAWORDA WAZESA ETEZAK KESDIEXA JO MBIZO TOISDIAMBA JO EWRIZ JO VIZ SATOMIOSDAK MISMUOSDE Y DROK  WERMOZASE CUISMO JO GUZIA JO JAK VIZ DROK PUO US OKMRIDAR Y HAODE MBIZOSA EUDAR JO VEK JO JAK JOMOSEK JO ZIWRAK OSDRO ZAK MUEZOK JOKDEMES KUK SATOZEK ZAK JODOMDITOK KEZTEGOK XESEJARE JOZ HROVIA BORREZJO OS VIZ SATOMIOSDAK SATOSDE Y AMBA Y OZ HROVIA RAVUZA XEZZOXAK OS VIZ SATOMIOSDAK SATOSDE Y SUOTO Y ZE HAKDUVE JAK VIZ KOIKMIOSDAK KOKOSDE Y KOIK  JOKHUOK JO KU VUORDO KO BE MASTORDIJA OS USA JO ZAK OKMRIDAROK VEK ISPZUYOSDOK OS ZOSXUE OKHESAZE MAVA ZA JOVUOKDRES ZEK SUVORAKEK HUWZIMEMIASOK MASKEXREJEK E KU AWRE Y OZ BOMBA JO CUO DROK SATOZEK EJOVEK JO ZEK YE MIDEJEK ZAK JODOMDITOK KEZTEGOK Y JAK VIZ KOIKMIOSDAK KOKOSDE Y KOIK ZE WROTO OKDROZZE JIKDESDO PIXUROS OS ZAK CUISMO HRIVORAK ZUXEROK JO ZE ZIKDE MASPOMMIASEJE OS JAK VIZ KIODO HAR AMBOSDE Y US OKMRIDAROK Y MRIDIMAK ZEDISAEVORIMESAK Y OKHESAZOK MAS ZAK VOGAROK MIOS ZIWRAK OS ZOSXUE MEKDOZZESE JO ZAK UZDIVAK TOISDIMISMA ESAK  KU AWRE BE KIJA DREJUMIJE E SUVORAKAK IJIAVEK OSDRO OZZAK ISXZOK PRESMOK EZOVES IDEZIESA ZIDUESA Y SOORZESJOK EZ VAVOSDA JO KU VUORDO DOSIE DROISDE Y KIODO MASDREDAK JO HUWZIMEMIAS OS JION HEIKOK HAKDUVEVOSDO ZE ZIKDE MROMIA HERE ISMZUIR VEK HEIKOK OSDRO OZZAK OKDEJAK USIJAK Y EKMOSJIA E MISMUOSDE MASDREDAK Y MUEROSDE Y SUOTO DREJUMMIASOK OS JAMO HEIKOK DAJAK OZZAK HROTIAK E ZE HUWZIMEMIAS JO JAK VIZ KOIKMIOSDAK KOKOSDE Y KOIK KU SATOZE VEK EVWIMIAKE EJOVEK OZ EUDAR XANE JO OQMOZOSDOK MRIDIMEK DESDA JO OKMRIDAROK MAVA JO MRIDIMAK ZIDORERIAK MASDOVHARESOAK Y KO ZO MASKIJORE USA JO ZAK XRESJOK EUDAROK BIKHESAEVORIMESAK JOZ KIXZA TOISDO GUSDA MAS ADRAK OKMRIDAROK JO ZE DEZZE JO GARXO ZUIK WARXOK HEWZA SORUJE Y GUZIA MARDENER MAS CUIOS KUOZO KOR MAVHEREJA\n",
      "Plausibilidad: 258.48197079911154\n",
      "Paso 5000\n",
      "Frase actual: REXORTE XELANE AJALEY YANTIACE DO VPILO JOINTIEVPE DO AXRIL DO WIL NEJOVIONTEY VINVZONTA K TROY  XARVOLENA GZINVO DO SZLIE DO DEY WIL TROY FZO ZN OYVRITER K MEOTA VPILONE AZTER DO WAY DO DEY DOVONAY DO LIXREY ONTRO LEY VZALOY DOYTAVAN YZY NEJOLAY LEY DOTOVTIJOY YALJASOY CANADERA DOL MROWIE PORRALDO ON WIL NEJOVIONTEY NEJONTA K EVPE K OL MROWIE REWZLE CALLOCEY ON WIL NEJOVIONTEY NEJONTA K NZOJO K LA MEYTZWA DEY WIL YOIYVIONTEY YOYONTA K YOIY  DOYMZOY DO YZ WZORTO YO PA VENJORTIDE ON ZNE DO LEY OYVRITEROY WAY INFLZKONTOY ON LONCZA OYMANELA VEWE LE DOWZOYTRAN LAY NZWOREYAY MZXLIVAVIENOY VENYACRADAY A YZ EXRA K OL POVPE DO GZO TROY NEJOLAY ADOWAY DO LAY KA VITADAY LEY DOTOVTIJOY YALJASOY K DEY WIL YOIYVIONTEY YOYONTA K YOIY LA XROJO OYTROLLA DIYTANTO FICZRON ON LEY GZINVO MRIWOREY LZCAROY DO LA LIYTA VENFOVVIENADA ON DEY WIL YIOTO MER EVPONTA K ZN OYVRITEROY K VRITIVEY LATINEAWORIVANEY K OYMANELOY VEN LEY WOSEROY VION LIXREY ON LONCZA VAYTOLLANA DO LEY ZLTIWEY JOINTIVINVE ANEY  YZ EXRA PA YIDE TRADZVIDA A NZWOREYEY IDIEWAY ONTRO OLLEY INCLOY FRANVOY ALOWAN ITALIANE LITZANE K NOORLANDOY AL WEWONTE DO YZ WZORTO TONIA TROINTA K YIOTO VENTRATEY DO MZXLIVAVIEN ON DIOB MAIYOY MEYTZWAWONTO LA LIYTA VROVIE MARA INVLZIR WAY MAIYOY ONTRO OLLEY OYTADEY ZNIDEY K AYVONDIE A VINVZONTA VENTRATEY K VZARONTA K NZOJO TRADZVVIENOY ON DEVO MAIYOY TEDEY OLLEY MROJIEY A LA MZXLIVAVIEN DO DEY WIL YOIYVIONTEY YOYONTA K YOIY YZ NEJOLA WAY AWXIVIEYA ADOWAY OL AZTER CEBA DO OHVOLONTOY VRITIVAY TANTE DO OYVRITEROY VEWE DO VRITIVEY LITORARIEY VENTOWMERANOEY K YO LO VENYIDORA ZNE DO LEY CRANDOY AZTEROY PIYMANEAWORIVANEY DOL YICLE JOINTO SZNTE VEN ETREY OYVRITEROY DO LA TALLA DO SERCO LZIY XERCOY MAXLE NORZDA K SZLIE VERTABAR VEN GZION YZOLO YOR VEWMARADE\n",
      "Plausibilidad: 266.65011016519867\n",
      "Paso 6000\n",
      "Frase actual: ROPERTO POLANO AVALOK KANTIAFO DE CHILE VEINTIOCHO DE APRIL DE MIL NOVECIENTOK CINCUENTA Y TREK  PARCELONA SUINCE DE QULIO DE DOK MIL TREK JUE UN EKCRITOR Y ZOETA CHILENO AUTOR DE MAK DE DOK DECENAK DE LIPROK ENTRE LOK CUALEK DEKTACAN KUK NOVELAK LOK DETECTIVEK KALVAQEK FANADORA DEL ZREMIO HERRALDE EN MIL NOVECIENTOK NOVENTA Y OCHO Y EL ZREMIO ROMULO FALLEFOK EN MIL NOVECIENTOK NOVENTA Y NUEVE Y LA ZOKTUMA DOK MIL KEIKCIENTOK KEKENTA Y KEIK  DEKZUEK DE KU MUERTE KE HA CONVERTIDO EN UNO DE LOK EKCRITOREK MAK INJLUYENTEK EN LENFUA EKZANOLA COMO LO DEMUEKTRAN LAK NUMEROKAK ZUPLICACIONEK CONKAFRADAK A KU OPRA Y EL HECHO DE SUE TREK NOVELAK ADEMAK DE LAK YA CITADAK LOK DETECTIVEK KALVAQEK Y DOK MIL KEIKCIENTOK KEKENTA Y KEIK LA PREVE EKTRELLA DIKTANTE JIFUREN EN LOK SUINCE ZRIMEROK LUFAREK DE LA LIKTA CONJECCIONADA EN DOK MIL KIETE ZOR OCHENTA Y UN EKCRITOREK Y CRITICOK LATINOAMERICANOK Y EKZANOLEK CON LOK MEQOREK CIEN LIPROK EN LENFUA CAKTELLANA DE LOK ULTIMOK VEINTICINCO ANOK  KU OPRA HA KIDO TRADUCIDA A NUMEROKOK IDIOMAK ENTRE ELLOK INFLEK JRANCEK ALEMAN ITALIANO LITUANO Y NEERLANDEK AL MOMENTO DE KU MUERTE TENIA TREINTA Y KIETE CONTRATOK DE ZUPLICACION EN DIEW ZAIKEK ZOKTUMAMENTE LA LIKTA CRECIO ZARA INCLUIR MAK ZAIKEK ENTRE ELLOK EKTADOK UNIDOK Y AKCENDIO A CINCUENTA CONTRATOK Y CUARENTA Y NUEVE TRADUCCIONEK EN DOCE ZAIKEK TODOK ELLOK ZREVIOK A LA ZUPLICACION DE DOK MIL KEIKCIENTOK KEKENTA Y KEIK KU NOVELA MAK AMPICIOKA ADEMAK EL AUTOR FOWA DE EBCELENTEK CRITICAK TANTO DE EKCRITOREK COMO DE CRITICOK LITERARIOK CONTEMZORANEOK Y KE LE CONKIDERA UNO DE LOK FRANDEK AUTOREK HIKZANOAMERICANOK DEL KIFLO VEINTE QUNTO CON OTROK EKCRITOREK DE LA TALLA DE QORFE LUIK PORFEK ZAPLO NERUDA Y QULIO CORTAWAR CON SUIEN KUELE KER COMZARADO\n",
      "Plausibilidad: 282.6864175385392\n",
      "Paso 7000\n",
      "Frase actual: ROBERTO BOLANO AVALOK KANTIAPO DE CJILE VEINTIOCJO DE ABRIL DE MIL NOVECIENTOK CINCUENTA Y TREK  BARCELONA FUINCE DE GULIO DE DOK MIL TREK QUE UN EKCRITOR Y ZOETA CJILENO AUTOR DE MAK DE DOK DECENAK DE LIBROK ENTRE LOK CUALEK DEKTACAN KUK NOVELAK LOK DETECTIVEK KALVAGEK PANADORA DEL ZREMIO JERRALDE EN MIL NOVECIENTOK NOVENTA Y OCJO Y EL ZREMIO ROMULO PALLEPOK EN MIL NOVECIENTOK NOVENTA Y NUEVE Y LA ZOKTUMA DOK MIL KEIKCIENTOK KEKENTA Y KEIK  DEKZUEK DE KU MUERTE KE JA CONVERTIDO EN UNO DE LOK EKCRITOREK MAK INQLUYENTEK EN LENPUA EKZANOLA COMO LO DEMUEKTRAN LAK NUMEROKAK ZUBLICACIONEK CONKAPRADAK A KU OBRA Y EL JECJO DE FUE TREK NOVELAK ADEMAK DE LAK YA CITADAK LOK DETECTIVEK KALVAGEK Y DOK MIL KEIKCIENTOK KEKENTA Y KEIK LA BREVE EKTRELLA DIKTANTE QIPUREN EN LOK FUINCE ZRIMEROK LUPAREK DE LA LIKTA CONQECCIONADA EN DOK MIL KIETE ZOR OCJENTA Y UN EKCRITOREK Y CRITICOK LATINOAMERICANOK Y EKZANOLEK CON LOK MEGOREK CIEN LIBROK EN LENPUA CAKTELLANA DE LOK ULTIMOK VEINTICINCO ANOK  KU OBRA JA KIDO TRADUCIDA A NUMEROKOK IDIOMAK ENTRE ELLOK INPLEK QRANCEK ALEMAN ITALIANO LITUANO Y NEERLANDEK AL MOMENTO DE KU MUERTE TENIA TREINTA Y KIETE CONTRATOK DE ZUBLICACION EN DIES ZAIKEK ZOKTUMAMENTE LA LIKTA CRECIO ZARA INCLUIR MAK ZAIKEK ENTRE ELLOK EKTADOK UNIDOK Y AKCENDIO A CINCUENTA CONTRATOK Y CUARENTA Y NUEVE TRADUCCIONEK EN DOCE ZAIKEK TODOK ELLOK ZREVIOK A LA ZUBLICACION DE DOK MIL KEIKCIENTOK KEKENTA Y KEIK KU NOVELA MAK AMBICIOKA ADEMAK EL AUTOR POSA DE EXCELENTEK CRITICAK TANTO DE EKCRITOREK COMO DE CRITICOK LITERARIOK CONTEMZORANEOK Y KE LE CONKIDERA UNO DE LOK PRANDEK AUTOREK JIKZANOAMERICANOK DEL KIPLO VEINTE GUNTO CON OTROK EKCRITOREK DE LA TALLA DE GORPE LUIK BORPEK ZABLO NERUDA Y GULIO CORTASAR CON FUIEN KUELE KER COMZARADO\n",
      "Plausibilidad: 283.1518226131911\n",
      "Paso 8000\n",
      "Frase actual: ROBERTO BOLANO AVALOK KANTIAZO DE CHILE VEINTIOCHO DE ABRIL DE MIL NOVECIENTOK CINCUENTA Y TREK  BARCELONA QUINCE DE JULIO DE DOK MIL TREK SUE UN EKCRITOR Y POETA CHILENO AUTOR DE MAK DE DOK DECENAK DE LIBROK ENTRE LOK CUALEK DEKTACAN KUK NOVELAK LOK DETECTIVEK KALVAJEK ZANADORA DEL PREMIO HERRALDE EN MIL NOVECIENTOK NOVENTA Y OCHO Y EL PREMIO ROMULO ZALLEZOK EN MIL NOVECIENTOK NOVENTA Y NUEVE Y LA POKTUMA DOK MIL KEIKCIENTOK KEKENTA Y KEIK  DEKPUEK DE KU MUERTE KE HA CONVERTIDO EN UNO DE LOK EKCRITOREK MAK INSLUYENTEK EN LENZUA EKPANOLA COMO LO DEMUEKTRAN LAK NUMEROKAK PUBLICACIONEK CONKAZRADAK A KU OBRA Y EL HECHO DE QUE TREK NOVELAK ADEMAK DE LAK YA CITADAK LOK DETECTIVEK KALVAJEK Y DOK MIL KEIKCIENTOK KEKENTA Y KEIK LA BREVE EKTRELLA DIKTANTE SIZUREN EN LOK QUINCE PRIMEROK LUZAREK DE LA LIKTA CONSECCIONADA EN DOK MIL KIETE POR OCHENTA Y UN EKCRITOREK Y CRITICOK LATINOAMERICANOK Y EKPANOLEK CON LOK MEJOREK CIEN LIBROK EN LENZUA CAKTELLANA DE LOK ULTIMOK VEINTICINCO ANOK  KU OBRA HA KIDO TRADUCIDA A NUMEROKOK IDIOMAK ENTRE ELLOK INZLEK SRANCEK ALEMAN ITALIANO LITUANO Y NEERLANDEK AL MOMENTO DE KU MUERTE TENIA TREINTA Y KIETE CONTRATOK DE PUBLICACION EN DIEW PAIKEK POKTUMAMENTE LA LIKTA CRECIO PARA INCLUIR MAK PAIKEK ENTRE ELLOK EKTADOK UNIDOK Y AKCENDIO A CINCUENTA CONTRATOK Y CUARENTA Y NUEVE TRADUCCIONEK EN DOCE PAIKEK TODOK ELLOK PREVIOK A LA PUBLICACION DE DOK MIL KEIKCIENTOK KEKENTA Y KEIK KU NOVELA MAK AMBICIOKA ADEMAK EL AUTOR ZOWA DE EXCELENTEK CRITICAK TANTO DE EKCRITOREK COMO DE CRITICOK LITERARIOK CONTEMPORANEOK Y KE LE CONKIDERA UNO DE LOK ZRANDEK AUTOREK HIKPANOAMERICANOK DEL KIZLO VEINTE JUNTO CON OTROK EKCRITOREK DE LA TALLA DE JORZE LUIK BORZEK PABLO NERUDA Y JULIO CORTAWAR CON QUIEN KUELE KER COMPARADO\n",
      "Plausibilidad: 285.8770736388085\n",
      "Paso 9000\n",
      "Frase actual: ROBERTO BOLANO AVALOK KANTIAPO DE CZILE VEINTIOCZO DE ABRIL DE MIL NOVECIENTOK CINCUENTA Y TREK  BARCELONA QUINCE DE FULIO DE DOK MIL TREK XUE UN EKCRITOR Y HOETA CZILENO AUTOR DE MAK DE DOK DECENAK DE LIBROK ENTRE LOK CUALEK DEKTACAN KUK NOVELAK LOK DETECTIVEK KALVAFEK PANADORA DEL HREMIO ZERRALDE EN MIL NOVECIENTOK NOVENTA Y OCZO Y EL HREMIO ROMULO PALLEPOK EN MIL NOVECIENTOK NOVENTA Y NUEVE Y LA HOKTUMA DOK MIL KEIKCIENTOK KEKENTA Y KEIK  DEKHUEK DE KU MUERTE KE ZA CONVERTIDO EN UNO DE LOK EKCRITOREK MAK INXLUYENTEK EN LENPUA EKHANOLA COMO LO DEMUEKTRAN LAK NUMEROKAK HUBLICACIONEK CONKAPRADAK A KU OBRA Y EL ZECZO DE QUE TREK NOVELAK ADEMAK DE LAK YA CITADAK LOK DETECTIVEK KALVAFEK Y DOK MIL KEIKCIENTOK KEKENTA Y KEIK LA BREVE EKTRELLA DIKTANTE XIPUREN EN LOK QUINCE HRIMEROK LUPAREK DE LA LIKTA CONXECCIONADA EN DOK MIL KIETE HOR OCZENTA Y UN EKCRITOREK Y CRITICOK LATINOAMERICANOK Y EKHANOLEK CON LOK MEFOREK CIEN LIBROK EN LENPUA CAKTELLANA DE LOK ULTIMOK VEINTICINCO ANOK  KU OBRA ZA KIDO TRADUCIDA A NUMEROKOK IDIOMAK ENTRE ELLOK INPLEK XRANCEK ALEMAN ITALIANO LITUANO Y NEERLANDEK AL MOMENTO DE KU MUERTE TENIA TREINTA Y KIETE CONTRATOK DE HUBLICACION EN DIEW HAIKEK HOKTUMAMENTE LA LIKTA CRECIO HARA INCLUIR MAK HAIKEK ENTRE ELLOK EKTADOK UNIDOK Y AKCENDIO A CINCUENTA CONTRATOK Y CUARENTA Y NUEVE TRADUCCIONEK EN DOCE HAIKEK TODOK ELLOK HREVIOK A LA HUBLICACION DE DOK MIL KEIKCIENTOK KEKENTA Y KEIK KU NOVELA MAK AMBICIOKA ADEMAK EL AUTOR POWA DE EGCELENTEK CRITICAK TANTO DE EKCRITOREK COMO DE CRITICOK LITERARIOK CONTEMHORANEOK Y KE LE CONKIDERA UNO DE LOK PRANDEK AUTOREK ZIKHANOAMERICANOK DEL KIPLO VEINTE FUNTO CON OTROK EKCRITOREK DE LA TALLA DE FORPE LUIK BORPEK HABLO NERUDA Y FULIO CORTAWAR CON QUIEN KUELE KER COMHARADO\n",
      "Plausibilidad: 284.2224035024182\n"
     ]
    },
    {
     "data": {
      "image/png": "[encoded data removed]",
      "text/plain": [
       "<Figure size 432x288 with 1 Axes>"
      ]
     },
     "metadata": {
      "needs_background": "light"
     },
     "output_type": "display_data"
    }
   ],
   "source": [
    "beta = lambda x: 5*10**(-8) * x ** 2\n",
    "Niter = 10000\n",
    "beta2, scores2 = SADecipher(ciphertext, Niter, beta, print_period = 1000)\n",
    "graph_scores(scores2, Niter, \"Plausibilidad de la cadena con texto largo\")"
   ]
  },
  {
   "cell_type": "markdown",
   "id": "05a0dc6f-c8d4-4af7-b830-75e64ec68447",
   "metadata": {},
   "source": [
    "## Ataque de trigrama"
   ]
  }
 ],
 "metadata": {
  "kernelspec": {
   "display_name": "Python 3 (ipykernel)",
   "language": "python",
   "name": "python3"
  },
  "language_info": {
   "codemirror_mode": {
    "name": "ipython",
    "version": 3
   },
   "file_extension": ".py",
   "mimetype": "text/x-python",
   "name": "python",
   "nbconvert_exporter": "python",
   "pygments_lexer": "ipython3",
   "version": "3.9.7"
  }
 },
 "nbformat": 4,
 "nbformat_minor": 5
}
