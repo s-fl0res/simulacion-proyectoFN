{
 "cells": [
  {
   "cell_type": "markdown",
   "id": "0fd9d31e-37ea-444d-9fe8-aa596e461a3f",
   "metadata": {},
   "source": [
    "# Proyecto: Descifrando Mensajes Codificados Usando MCMC\n",
    "\n",
    "Integrantes: Sebastián Flores y Matías Neto\n",
    "\n",
    "## Procesamiento de la fuente de texto"
   ]
  },
  {
   "cell_type": "code",
   "execution_count": 2,
   "id": "0501a677-a035-4322-b11c-594d937db640",
   "metadata": {},
   "outputs": [
    {
     "name": "stdout",
     "output_type": "stream",
     "text": [
      "Collecting pycipher\n",
      "  Downloading pycipher-0.5.2.zip (45 kB)\n",
      "\u001b[2K     \u001b[38;2;114;156;31m━━━━━━━━━━━━━━━━━━━━━━━━━━━━━━━━━━━━━━━━\u001b[0m \u001b[32m45.5/45.5 KB\u001b[0m \u001b[31m3.5 MB/s\u001b[0m eta \u001b[36m0:00:00\u001b[0m\n",
      "\u001b[?25h  Preparing metadata (setup.py) ... \u001b[?25ldone\n",
      "\u001b[?25hBuilding wheels for collected packages: pycipher\n",
      "  Building wheel for pycipher (setup.py) ... \u001b[?25ldone\n",
      "\u001b[?25h  Created wheel for pycipher: filename=pycipher-0.5.2-py3-none-any.whl size=30456 sha256=9de64c40398958bad39dd55ec22b4d2f7946c1fe5d214d3fe7fe9420b2d0b1ac\n",
      "  Stored in directory: /home/sflores/.cache/pip/wheels/ca/e7/37/bf758675337f9b98f096d8f7a5fd0cf320aadd67ae8a12f545\n",
      "Successfully built pycipher\n",
      "Installing collected packages: pycipher\n",
      "Successfully installed pycipher-0.5.2\n",
      "\u001b[33mWARNING: You are using pip version 22.0.4; however, version 23.3.1 is available.\n",
      "You should consider upgrading via the '/home/sflores/anaconda3/bin/python -m pip install --upgrade pip' command.\u001b[0m\u001b[33m\n",
      "\u001b[0mNote: you may need to restart the kernel to use updated packages.\n"
     ]
    }
   ],
   "source": [
    "%pip install pycipher"
   ]
  },
  {
   "cell_type": "code",
   "execution_count": 41,
   "id": "0d6dc3de-bd6f-4e6f-a1d5-c9755ed216aa",
   "metadata": {},
   "outputs": [],
   "source": [
    "import re\n",
    "import pandas as pd\n",
    "import numpy as np\n",
    "from pycipher import SimpleSubstitution\n",
    "import random"
   ]
  },
  {
   "cell_type": "code",
   "execution_count": 24,
   "id": "100724b9-7149-445a-98ec-d40396017ec0",
   "metadata": {},
   "outputs": [],
   "source": [
    "# Cargar el texto\n",
    "with open(\"gloria_benitoperezgaldos.txt\", \"r\") as f:\n",
    "    text = f.readlines()\n",
    "\n",
    "for i in range(len(text)):\n",
    "    text[i] = text[i].replace('\\n', '')\n",
    "\n",
    "text = ' '.join(text)"
   ]
  },
  {
   "cell_type": "code",
   "execution_count": 26,
   "id": "cd0b1793-2100-4a11-b0aa-03fc394fa18f",
   "metadata": {},
   "outputs": [],
   "source": [
    "# Sólo minúsculas\n",
    "clean_text = text.casefold()\n",
    "\n",
    "# Eliminar tildes\n",
    "tilde_dict = {'á':'a', 'é': 'e', 'í': 'i', 'ó':'o', 'ú':'u', 'ñ': 'n'}\n",
    "for key, value in tilde_dict.items():\n",
    "    clean_text = clean_text.replace(key, value)\n",
    "\n",
    "# Eliminar caracteres especiales\n",
    "clean_text = re.sub(r\"[^a-zA-Z ]\", \"\", clean_text)\n",
    "clean_text = clean_text.upper()"
   ]
  },
  {
   "cell_type": "code",
   "execution_count": 40,
   "id": "e0a59193-4884-4b25-b48a-5bdbbece3b7e",
   "metadata": {},
   "outputs": [],
   "source": [
    "def process(word, matrix):\n",
    "    '''\n",
    "    Almacena la frecuencia de transiciones de una palabra en una matriz\n",
    "    \n",
    "    Argumentos:\n",
    "        word (string): Palabra a procesar\n",
    "        matrix (pd.DataFrame): Matriz de transición\n",
    "    \n",
    "    Retorna:\n",
    "        matrix (pd.DataFrame): Matriz de transición actualizada con\n",
    "                               la palabra procesada\n",
    "    '''\n",
    "    letters = list(word)\n",
    "    matrix.loc[' ', letters[0]] = matrix.loc[' ', letters[0]] + 1\n",
    "    for i in range(len(word)-1):\n",
    "        matrix.loc[letters[i], letters[i+1]] = matrix.loc[letters[i], letters[i+1]] + 1\n",
    "    matrix.loc[letters[len(word)-1], ' '] = matrix.loc[letters[len(word)-1], ' '] + 1\n",
    "    return matrix"
   ]
  },
  {
   "cell_type": "code",
   "execution_count": 28,
   "id": "ca3423d7-dd12-4316-818e-3fb4261d7830",
   "metadata": {},
   "outputs": [],
   "source": [
    "# Creación de la matriz\n",
    "alphabet = sorted(''.join(set(clean_text)))\n",
    "matrix = pd.DataFrame(data=np.zeros((len(alphabet), len(alphabet))), index=alphabet, columns=alphabet)\n",
    "words = clean_text.split()\n",
    "\n",
    "# Se demora unos minutos\n",
    "for word in words:\n",
    "    matrix = process(word, matrix)\n",
    "transition = matrix.apply(lambda x: x/np.sum(x), axis=1)"
   ]
  },
  {
   "cell_type": "markdown",
   "id": "d1263ba4-ff81-4845-abc2-0b668cd8e126",
   "metadata": {},
   "source": [
    "## Preparación de la función de costos"
   ]
  },
  {
   "cell_type": "code",
   "execution_count": 38,
   "id": "89bbef93-6bd6-4569-8283-571767a3cb66",
   "metadata": {},
   "outputs": [
    {
     "name": "stdout",
     "output_type": "stream",
     "text": [
      "Texto cifrado: OHPLYE ATYE CZEUHZE WGZTNZ AK UZKYNYT CZ WHEFKAOFZTNY ZK PYGYTZK AHGZKFATY JHZTCFA GZPYGCY AQHZKKA NAGCZ GZOYNA ZT QHZ EH UACGZ KY KKZXY A PYTYPZG ZK LFZKY\n",
      "Plausibilidad: 11337837059.408495\n"
     ]
    }
   ],
   "source": [
    "def plausibility(ciphertext, key, matrix = transition):\n",
    "    '''\n",
    "    Función de plausibilidad que funcionará como costo para SA\n",
    "    \n",
    "    Argumentos:\n",
    "        ciphertext (string): Texto codificado\n",
    "        key (string): Clave del mismo largo que el alfabeto a testear\n",
    "        matrix (pd.DataFrame): Matriz de transición construida antes\n",
    "    \n",
    "    Retorna:\n",
    "        plausibility (float): valor de la plausibilidad para key\n",
    "    '''\n",
    "    cipher = SimpleSubstitution(key)\n",
    "    plaintext = cipher.decipher(ciphertext, keep_punct = True)\n",
    "    words = plaintext.split()\n",
    "    matrix = pd.DataFrame(data=np.zeros((len(alphabet), len(alphabet))), index=alphabet, columns=alphabet)\n",
    "    for word in words:\n",
    "        matrix = process(word, matrix)\n",
    "    plausibility = np.product((1 + transition.to_numpy()) ** matrix.to_numpy())\n",
    "    return plausibility\n",
    "\n",
    "# Ejemplo\n",
    "plaintext = \"MUCHOS ANOS DESPUES FRENTE AL PELOTON DE FUSILAMIENTO \" + \\\n",
    "            \"EL CORONEL AURELIANO BUENDIA RECORDO AQUELLA TARDE REMOTA \" + \\\n",
    "            \"EN QUE SU PADRE LO LLEVO A CONOCER EL HIELO\"\n",
    "real_key = \"AJPCZWRLFBDKOTYUQGENHXMIVS\"\n",
    "real_cipher = SimpleSubstitution(real_key)\n",
    "ciphertext = real_cipher.encipher(plaintext, keep_punct = True)\n",
    "print(f\"Texto cifrado: {ciphertext}\")\n",
    "print(f\"Plausibilidad: {plausibility(ciphertext, real_key)}\")"
   ]
  },
  {
   "cell_type": "code",
   "execution_count": 39,
   "id": "27adcf23-9b05-4da7-9da4-c316f0e503fd",
   "metadata": {},
   "outputs": [
    {
     "name": "stdout",
     "output_type": "stream",
     "text": [
      "Clave ejemplo: LHWIJDOGXUTPRVAFECSNQKYBZM\n",
      "Texto descifrado con la clave: GBLAWQ OKWQ RYQJBYQ CHYKTY OV JYVWTWK RY CBQPVOGPYKTW YV LWHWKYV OBHYVPOKW EBYKRPO HYLWHRW OUBYVVO TOHRY HYGWTO YK UBY QB JORHY VW VVYIW O LWKWLYH YV APYVW\n",
      "Plausibilidad: 19663.15526269065\n"
     ]
    }
   ],
   "source": [
    "# Ejemplo para ver que efectivamente la plausibilidad es menor\n",
    "example_key = ''.join(random.sample(real_key, len(real_key)))\n",
    "print(\"Clave ejemplo: \" + example_key)\n",
    "example_cipher = SimpleSubstitution(example_key)\n",
    "print(\"Texto descifrado con la clave: \"+example_cipher.decipher(ciphertext, keep_punct=True))\n",
    "print(f\"Plausibilidad: {plausibility(ciphertext, example_key)}\")"
   ]
  },
  {
   "cell_type": "markdown",
   "id": "60629073-275c-4fd4-aad2-45f5caa5b69d",
   "metadata": {},
   "source": [
    "## Preparación del paseo aleatorio"
   ]
  },
  {
   "cell_type": "code",
   "execution_count": 49,
   "id": "fa661f1e-7743-401d-83bd-97c4e9fffc9e",
   "metadata": {},
   "outputs": [
    {
     "name": "stdout",
     "output_type": "stream",
     "text": [
      "Clave ejemplo: LHWIJDOGXUTPRVAFECSNQKYBZM\n",
      "Vecino: LHWIJDOKXUTPRVAFECSNQGYBZM\n",
      "Indices intercambiados: [7, 21]\n"
     ]
    }
   ],
   "source": [
    "def neighbor(key):\n",
    "    '''\n",
    "    Retorna un vecino aleatorio (con distribución uniforme) de la clave\n",
    "    \n",
    "    Argumentos:\n",
    "        key (str): Clave representada por una permutación del alfabeto\n",
    "    \n",
    "    Retorna:\n",
    "        new_key (str): Clave vecina a key\n",
    "    '''\n",
    "    indices = random.sample(list(np.arange(len(key))), 2)\n",
    "    symbol_a, symbol_b = key[indices[0]], key[indices[1]]\n",
    "    new_key = list(key)\n",
    "    new_key[indices[0]] = symbol_b\n",
    "    new_key[indices[1]] = symbol_a\n",
    "    new_key = ''.join(new_key)\n",
    "    return new_key\n",
    "\n",
    "nghbr = neighbor(example_key)\n",
    "print(f\"Clave ejemplo: {example_key}\")\n",
    "print(f\"Vecino: {nghbr}\")\n",
    "print(f\"Indices intercambiados: {[i for i in range(len(example_key)) if example_key[i] != nghbr[i]]}\")"
   ]
  },
  {
   "cell_type": "code",
   "execution_count": null,
   "id": "815964b2-e0c9-4ff2-b569-c943949d87ca",
   "metadata": {},
   "outputs": [],
   "source": []
  }
 ],
 "metadata": {
  "kernelspec": {
   "display_name": "Python 3 (ipykernel)",
   "language": "python",
   "name": "python3"
  },
  "language_info": {
   "codemirror_mode": {
    "name": "ipython",
    "version": 3
   },
   "file_extension": ".py",
   "mimetype": "text/x-python",
   "name": "python",
   "nbconvert_exporter": "python",
   "pygments_lexer": "ipython3",
   "version": "3.9.7"
  }
 },
 "nbformat": 4,
 "nbformat_minor": 5
}
