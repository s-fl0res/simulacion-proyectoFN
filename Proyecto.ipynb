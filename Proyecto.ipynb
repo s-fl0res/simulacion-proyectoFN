{
 "cells": [
  {
   "cell_type": "markdown",
   "id": "0fd9d31e-37ea-444d-9fe8-aa596e461a3f",
   "metadata": {},
   "source": [
    "# Proyecto: Descifrando Mensajes Codificados Usando MCMC\n",
    "\n",
    "Integrantes: Sebastián Flores y Matías Neto\n",
    "\n",
    "## Procesamiento de la fuente de texto"
   ]
  },
  {
   "cell_type": "code",
   "execution_count": 19,
   "id": "100724b9-7149-445a-98ec-d40396017ec0",
   "metadata": {},
   "outputs": [],
   "source": [
    "import re\n",
    "\n",
    "# Cargar el texto\n",
    "with open(\"gloria_benitoperezgaldos.txt\", \"r\") as f:\n",
    "    text = f.readlines()\n",
    "\n",
    "for i in range(len(text)):\n",
    "    text[i] = text[i].replace('\\n', '')\n",
    "\n",
    "text = ' '.join(text)"
   ]
  },
  {
   "cell_type": "code",
   "execution_count": 27,
   "id": "cd0b1793-2100-4a11-b0aa-03fc394fa18f",
   "metadata": {},
   "outputs": [],
   "source": [
    "# Sólo minúsculas\n",
    "clean_text = text.casefold()\n",
    "\n",
    "# Eliminar tildes\n",
    "tilde_dict = {'á':'a', 'é': 'e', 'í': 'i', 'ó':'o', 'ú':'u'}\n",
    "for key, value in tilde_dict.items():\n",
    "    clean_text = clean_text.replace(key, value)\n",
    "\n",
    "# Eliminar caracteres especiales\n",
    "clean_text = re.sub(r\"[^a-zA-Z ]\", \"\", clean_text)"
   ]
  },
  {
   "cell_type": "code",
   "execution_count": null,
   "id": "32cf36db-68db-4641-8b5e-f8aedc57cba5",
   "metadata": {},
   "outputs": [],
   "source": []
  }
 ],
 "metadata": {
  "kernelspec": {
   "display_name": "Python 3 (ipykernel)",
   "language": "python",
   "name": "python3"
  },
  "language_info": {
   "codemirror_mode": {
    "name": "ipython",
    "version": 3
   },
   "file_extension": ".py",
   "mimetype": "text/x-python",
   "name": "python",
   "nbconvert_exporter": "python",
   "pygments_lexer": "ipython3",
   "version": "3.9.7"
  }
 },
 "nbformat": 4,
 "nbformat_minor": 5
}
